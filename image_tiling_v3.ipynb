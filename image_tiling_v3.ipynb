{
 "cells": [
  {
   "cell_type": "code",
   "execution_count": 1,
   "metadata": {},
   "outputs": [
    {
     "name": "stdout",
     "output_type": "stream",
     "text": [
      "spearhead3\n"
     ]
    }
   ],
   "source": [
    "!hostname"
   ]
  },
  {
   "cell_type": "markdown",
   "metadata": {},
   "source": [
    "# Image tiling"
   ]
  },
  {
   "cell_type": "code",
   "execution_count": 2,
   "metadata": {},
   "outputs": [],
   "source": [
    "#Uses a fastai2 kernel.\n",
    "\n",
    "#This is a hack; I have modified a package called \"image_bbox_slicer\" and here I add the \n",
    "#directory containing the modified code to my search path so I can import the modified package.\n",
    "import sys\n",
    "# insert at position 1, because 0 is the scriptath (or '' in REPL)\n",
    "sys.path.insert(1,'/data2/home/egdod/jdev/image_bbox_tiler')\n",
    "#sys.path.insert(1, '/home/john/.../image_bbox_tiler')"
   ]
  },
  {
   "cell_type": "code",
   "execution_count": 3,
   "metadata": {},
   "outputs": [],
   "source": [
    "from pathlib import Path\n",
    "from pascal_voc_writer import Writer\n",
    "from PIL import Image\n",
    "from torchvision.transforms.functional import pad as tvpad\n",
    "import random\n",
    "import pdb\n",
    "from image_bbox_tiler import image_bbox_slicer as ibs\n",
    "import re #regex\n",
    "import subprocess\n",
    "import pandas as pd\n",
    "import zipfile\n",
    "import shutil\n",
    "import os"
   ]
  },
  {
   "cell_type": "markdown",
   "metadata": {},
   "source": [
    "## Goal of this notebook\n",
    "Our ultimate goal is to train an AI model to detect small features (animals) in large images (aerial photographs).  The relatively poor quality of the aerial images means that we can't afford to reduce the image resolution without losing the features we want to detect.  This is generically called a \"small-object detection\" problem and is an active area of research.  The way the problem is generally handled is to cut large images into smaller 'tiles'.\n",
    "\n",
    "The images are roughly 6000 x 4000 pixels and we plan to use a tile size of 500 x 500, which means we will have 12 x 8 = 96 tiles per image, i.e., roughly 100 times as many tiles as images.  Even in the training images that contain objects of interest, the objects usually fall in just a few tiles.  For training purposes, there is no benefit to feeding the model vast numbers of empty tiles, but the model may generalize better if _some_ empty tiles are included in the training data.  Tiling images also requires that the corresponding bounding box annotations must be chopped up appropriately (transforming coordinates and preserving information about the class, attributes, etc.), and introduces the problem of boxes that fall across boundaries between tiles.  \n",
    "\n",
    "**The specific goals of this notebook were:**\n",
    "1. To make sure that all images (including empty ones) have annotation files;\n",
    "2. To cut the images into tiles, and to tile the corresponding bounding boxes appropriately;\n",
    "3. To allow overlap between tiles to ameliorate the problem of bounding boxes that fall on tile boundaries;\n",
    "4. To omit most empty tiles and to save CPU cycles by not processing them, but allow some fraction of them to be sampled at random; and\n",
    "5. To make it possible to discard tiles or change the label to \"none\" based on a threshold for minimum bounding box area."
   ]
  },
  {
   "cell_type": "markdown",
   "metadata": {},
   "source": [
    "### Directory structure (because I'll forget)"
   ]
  },
  {
   "cell_type": "markdown",
   "metadata": {},
   "source": [
    "The general structure is this:\n",
    "<pre>\n",
    "/cdata/tanzania/annotated_images/TA25 + others (RR17, RR19, SL25) --annotated images\n",
    "            |              \\        \\- _data/RKE/   \n",
    "            |               \\- AIAIA has original annotation zipfiles for all directories\n",
    "            |- /temp  \n",
    "                  |-/annotations -- contains annotations in subdirectories  \n",
    "                  |-/tiled_annotations -- contains tiled annotations (no subdirectories)  \n",
    "                  |-/tiled_images -- contains tiled annotations (no subdirectories)  \n",
    "                  |-/temp --junk (used for moving unzipped files) \n",
    "</pre>\n",
    "The annotation subdirectory names (`annotations/subname`) match the image subdirectories (`_data/RKE/subname`) to which they are related, but the image subdirectories may be further divided into additional subdirectories."
   ]
  },
  {
   "cell_type": "markdown",
   "metadata": {},
   "source": [
    "## Extract and divide annotations\n",
    "This is necessary because annotation zipfiles can include images from more than one subdirectory.\n",
    "\n",
    "Steps:\n",
    "1. Figure out what subdirectories are represented in each annotation zipfile\n",
    "2. Extract the zipfile and divide the annotation files into subdirectories based on the folder in each filename\n",
    "3. Write missing annotation files for 'empty' images (see below for details)"
   ]
  },
  {
   "cell_type": "code",
   "execution_count": 4,
   "metadata": {},
   "outputs": [],
   "source": [
    "#Set main paths\n",
    "imagepath = Path('/cdata/tanzania/annotated_images') #Parent folder for images (had /RKE)\n",
    "#imagepath = Path('/cdata/tanzania/TA25/_data') #Parent folder for images (had /RKE)\n",
    "annotation_source_path = Path('/cdata/tanzania/annotated_images/AIAIA') #Where original zipped annotation files are\n",
    "#annotation_source_path = Path('/cdata/tanzania/TA25') #Where original zipped annotation files are\n",
    "annotationpath = Path('/cdata/tanzania/temp/annotations') #Destination parent folder for unzipped annotation files (where we want them to go)"
   ]
  },
  {
   "cell_type": "code",
   "execution_count": 5,
   "metadata": {},
   "outputs": [
    {
     "data": {
      "text/plain": [
       "['/cdata/tanzania/annotated_images/AIAIA/sl25-cfa-tnp_2013105-12-2020_08_11_07_45_04-pascal_voc_1.1.zip',\n",
       " '/cdata/tanzania/annotated_images/AIAIA/rr17-cfa-zgf_20141104-08-2020_06_29_06_40_22-pascal_voc_1.1.zip',\n",
       " '/cdata/tanzania/annotated_images/AIAIA/ta25-rke-20191201-2020_03_11_13_28_49-pascal_voc_1.1.zip',\n",
       " '/cdata/tanzania/annotated_images/AIAIA/ta25-rke-20191127a-2020_03_06_09_05_38-pascal_voc_1.1.zip',\n",
       " '/cdata/tanzania/annotated_images/AIAIA/ta25-rke-20191128a-2020_03_06_11_49_18-pascal_voc_1.1.zip',\n",
       " '/cdata/tanzania/annotated_images/AIAIA/ta25-rke-20191202-3-2020_06_01_08_01_48-pascal_voc_1.1.zip',\n",
       " '/cdata/tanzania/annotated_images/AIAIA/rr19-5el-20180920a-28a-2020_08_11_11_31_12-pascal_voc_1.1.zip',\n",
       " '/cdata/tanzania/annotated_images/AIAIA/sl25-zgf_2013105-12-2020_08_11_12_04_49-pascal_voc_1.1.zip',\n",
       " '/cdata/tanzania/annotated_images/AIAIA/rr17-sgr-twr_20141111-14-2020_08_11_13_14_30-pascal_voc_1.1.zip',\n",
       " '/cdata/tanzania/annotated_images/AIAIA/ta25-twr-1201-3-2020_06_08_14_33_26-pascal_voc_1.1.zip']"
      ]
     },
     "execution_count": 5,
     "metadata": {},
     "output_type": "execute_result"
    }
   ],
   "source": [
    "#Get Pascal-VOC annotation files (in /TA25 itself)\n",
    "annotation_files = [str(x) for x in annotation_source_path.iterdir() if str(x).find('voc_1.1') > 0 and x.suffix == '.zip'] #convert strings to Paths and get parent folder\n",
    "annotation_files"
   ]
  },
  {
   "cell_type": "markdown",
   "metadata": {},
   "source": [
    "### Some utilities for finding subdirectories in annotation files"
   ]
  },
  {
   "cell_type": "code",
   "execution_count": 6,
   "metadata": {},
   "outputs": [],
   "source": [
    "def get_zipfile_directories(zfile):\n",
    "    \"\"\"\n",
    "    Returns a list of subdirectories found in the filenames in a zipfile\n",
    "    \"\"\"\n",
    "    #Get the filenames inside the zipfile\n",
    "    zpf = zipfile.ZipFile(zfile)\n",
    "    fnames = zpf.namelist()\n",
    "    #Get the directory of every file; and from there a list of unique directories\n",
    "    fdirs = list(set([str(Path(f).parent) for f in fnames]))\n",
    "    return (fdirs)"
   ]
  },
  {
   "cell_type": "code",
   "execution_count": 7,
   "metadata": {},
   "outputs": [],
   "source": [
    "def get_zipfile_annotation_dirs(zfile,remove_list):\n",
    "    \n",
    "    fdirs = get_zipfile_directories(zfile)\n",
    "    #filter out only those that start with 'Annotations'\n",
    "    anndirs = [f for f in fdirs if f.split('/',1)[0] =='Annotations'] \n",
    "    #Clean the directory names by removing some roots\n",
    "    subdirs = [clean_filepath(d,remove_list) for d in anndirs]\n",
    "    return subdirs"
   ]
  },
  {
   "cell_type": "code",
   "execution_count": 8,
   "metadata": {},
   "outputs": [],
   "source": [
    "#Create a flat list of all subdirectories found in all annotation files (called next)\n",
    "def get_subdirs(annotation_files,remove_list):\n",
    "    subdirs = []\n",
    "    if not isinstance(annotation_files,list):\n",
    "        return get_zipfile_annotation_dirs(annotation_files,remove_list)\n",
    "    else:        \n",
    "        for f in annotation_files:\n",
    "            d = get_zipfile_annotation_dirs(f,remove_list)\n",
    "            subdirs = subdirs + d\n",
    "        return subdirs"
   ]
  },
  {
   "cell_type": "code",
   "execution_count": 9,
   "metadata": {},
   "outputs": [],
   "source": [
    "#Removes elements from a filepath iteratively, only if they are in the first position.\n",
    "#So to remove /Annotations or /Annotations/CVAT, remove_list should be [\"Annotations\",\"CVAT\"] in that order.\n",
    "def clean_filepath(fpath,remove_list):\n",
    "    if not isinstance(remove_list,list):\n",
    "        remove_list = list(remove_list)\n",
    "    p = Path(fpath)\n",
    "    for item in remove_list:\n",
    "        if (p.parts[0]==item):\n",
    "            p = Path(*p.parts[1:])\n",
    "    return str(p)"
   ]
  },
  {
   "cell_type": "code",
   "execution_count": 11,
   "metadata": {},
   "outputs": [
    {
     "data": {
      "text/plain": [
       "['SL25/SL25-CFA-TNP_2013105-12',\n",
       " 'RR17/RR17-CFA-ZGF_20141104-08',\n",
       " 'TA25/_data/RKE/TA25-RKE-20191201A/TA25-RKE-20191201A_R',\n",
       " 'TA25/_data/RKE/TA25-RKE-20191201B/TA25-RKE-20191201B_L',\n",
       " 'TA25/_data/RKE/TA25-RKE-20191201A/TA25-RKE-20191201A_L',\n",
       " 'TA25/_data/RKE/TA25-RKE-20191127A/TA25-RKE-20191127A_L',\n",
       " 'TA25/_data/RKE/TA25-RKE-20191128A/TA25-RKE-20191128A_L',\n",
       " 'TA25/_data/RKE/TA25-RKE-20191128A/TA25-RKE-20191128A_R',\n",
       " 'TA25/_data/RKE/TA25-RKE-20191203B/TA25-RKE-20191203B_R',\n",
       " 'TA25/_data/RKE/TA25-RKE-20191203A/TA25-RKE-20191203A_L',\n",
       " 'TA25/_data/RKE/TA25-RKE-20191202A/TA25-RKE-20191202A_L',\n",
       " 'TA25/_data/RKE/TA25-RKE-20191202A/TA25-RKE-20191202A_R',\n",
       " 'TA25/_data/RKE/TA25-RKE-20191203A/TA25-RKE-20191203A_R',\n",
       " 'TA25/_data/RKE/TA25-RKE-20191203B/TA25-RKE-20191203B_L',\n",
       " 'RR19/RR19-5EL-20180920A-28A',\n",
       " 'SL25/SL25-ZGF_2013105-12',\n",
       " 'RR17/RR17-SGR-TWR_20141111-14',\n",
       " 'TA25/_data/TWR/TA25-TWR-20191201B/TA25-TWR-20191201B_R',\n",
       " 'TA25/_data/TWR/TA25-TWR-20191202A/TA25-TWR-20191202A_R',\n",
       " 'TA25/_data/TWR/TA25-TWR-20191203A/TA25-TWR-20191203A_R',\n",
       " 'TA25/_data/TWR/TA25-TWR-20191201A/TA25-TWR-20191201A_R']"
      ]
     },
     "execution_count": 11,
     "metadata": {},
     "output_type": "execute_result"
    }
   ],
   "source": [
    "#Check out the subdirectories in this batch of annotation files\n",
    "rlist = ['Annotations','CVAT']\n",
    "#rlist = []\n",
    "get_subdirs(annotation_files,rlist)"
   ]
  },
  {
   "cell_type": "markdown",
   "metadata": {},
   "source": [
    "### Clear the temporary directory and unzip annotations to it"
   ]
  },
  {
   "cell_type": "code",
   "execution_count": 12,
   "metadata": {},
   "outputs": [],
   "source": [
    "def clear_directory(dir):\n",
    "    \"\"\"\n",
    "    Clear a directory (erase both files and folders but leave the directory itself)\n",
    "    \"\"\"\n",
    "    for filename in os.listdir(dir):\n",
    "        file_path = os.path.join(dir, filename)\n",
    "        try:\n",
    "            if os.path.isfile(file_path) or os.path.islink(file_path):\n",
    "                os.unlink(file_path)\n",
    "            elif os.path.isdir(file_path):\n",
    "                shutil.rmtree(file_path)\n",
    "        except Exception as e:\n",
    "            print('Failed to delete %s. Reason: %s' % (file_path, e))\n",
    "\n"
   ]
  },
  {
   "cell_type": "code",
   "execution_count": 13,
   "metadata": {},
   "outputs": [],
   "source": [
    "#Unzips a single annotation zipfile into a temporary directory, complete with relative filepaths\n",
    "#First we clear the temporary directory (delete files and folders)\n",
    "def unzip_ann_file(ann_file,tempdir):\n",
    "    \"\"\"Unzip an annotation file into a temporary directory, complete with relative filepaths\"\"\"\n",
    "    print(\"Clearing directory \",tempdir)\n",
    "    clear_directory(tempdir)\n",
    "        \n",
    "    #Unzip the archive files into the temporary directory, in two steps\n",
    "    #Warning: the -o flag can’t have spaces between it and the filename, and can only have ONE space before it\n",
    "    outdir = '-o' + str(tempdir) \n",
    "    #Extract the files complete with relative filepaths (more stable than other methods tried)\n",
    "    subprocess.call([\"7z\",\"x\",ann_file,outdir]) #ann_file,outdir\n",
    "    print(\"7z x \",ann_file,outdir)\n",
    "    "
   ]
  },
  {
   "cell_type": "markdown",
   "metadata": {},
   "source": [
    "### Copy existing annotation files to the annotationpath directory\n",
    "Slighly complicated because of paths relative to different root directories.\n",
    "#### TODO: Fix filename and filepath so they are identical in annotations with/without objects\n",
    "Will have to dig into the XML to fix them."
   ]
  },
  {
   "cell_type": "code",
   "execution_count": 14,
   "metadata": {},
   "outputs": [],
   "source": [
    "#Copy existing annotations from the temp directory to the annotations directory.  \n",
    "def copy_existing_annotations(tempdir,annotationpath,remove_list):\n",
    "    fullpaths = list(tempdir.rglob(\"*.xml\"))\n",
    "    written = 0\n",
    "    for fp in fullpaths:\n",
    "        fullpath = str(fp) \n",
    "        relpath = Path(fp).relative_to(tempdir)\n",
    "        cleanpath = clean_filepath(relpath,remove_list)\n",
    "        to_path = str(Path(annotationpath)/cleanpath)\n",
    "        shutil.copy(fullpath, to_path)\n",
    "        written += 1\n",
    "    print('Copied ',written,' files from temp to annotationpath')\n"
   ]
  },
  {
   "cell_type": "markdown",
   "metadata": {},
   "source": [
    "## Fill in missing annotation files for 'empty' images\n",
    "For each subdirectory represented in an annotation zipfile:\n",
    "1. Get list of _all_ image filepaths in the associated subdirectory (recursive)\n",
    "2. Get list of filepaths for _annotated_ images (ones that have associated annotation files)\n",
    "3. Compare the lists to identify which images are missing annotation files\n",
    "4. Use pascal_voc_writer to create an xml annotation file with no bounding box for each missing file"
   ]
  },
  {
   "cell_type": "code",
   "execution_count": 15,
   "metadata": {},
   "outputs": [],
   "source": [
    "#1. Get list of all files processed from /ImageSets/Main/default.txt\n",
    "#The default.txt file DOES contain path information, but we ignore it\n",
    "def get_image_filepaths(tempdir,remove_list):\n",
    "    file = open(Path(tempdir)/\"ImageSets/Main/default.txt\")\n",
    "    lines = [line.strip() for line in file]\n",
    "    file.close()\n",
    "    flist = [clean_filepath(l,remove_list) for l in lines]\n",
    "    return flist"
   ]
  },
  {
   "cell_type": "code",
   "execution_count": 16,
   "metadata": {},
   "outputs": [],
   "source": [
    "#2. Get list of filenames for images that have associated annotation files\n",
    "#We read this by searching the tempdir structure; then clean up a bit to match image names\n",
    "def get_annotated_images(tempdir,remove_list):\n",
    "    fullpaths = list(tempdir.rglob(\"*.xml\"))\n",
    "    relpaths = [str(Path(fp).relative_to(tempdir)) for fp in fullpaths]\n",
    "    nosuffix = [str(Path(f).with_suffix('')) for f in relpaths] #Get rid of suffix\n",
    "    ann_imgs = [clean_filepath(fp,remove_list) for fp in nosuffix] #Drop root directories (Annotations/CVAT)\n",
    "    return ann_imgs"
   ]
  },
  {
   "cell_type": "code",
   "execution_count": 17,
   "metadata": {},
   "outputs": [],
   "source": [
    "#3. Calculate the missing annotations by subtracting annotations from total files\n",
    "#We're using full filepaths but dropping the file extensions\n",
    "def calculate_missing_annotations(images,annotated_images):\n",
    "    missing_ann = list(set(images) - set(annotated_images))\n",
    "    assert (len(missing_ann)==(len(images) - len(annotated_images))), 'images - annotated_images != missing_ann.  Do filepaths match?'\n",
    "    return(missing_ann)"
   ]
  },
  {
   "cell_type": "code",
   "execution_count": 18,
   "metadata": {},
   "outputs": [],
   "source": [
    "#4. Use pascal_voc_writer to create a new empty annotation file for each image in a list\n",
    "def write_empty_annotations(imagepath,missing_ann,an_dest):  \n",
    "    nc = 0\n",
    "    badlist = []\n",
    "    if(len(missing_ann) > 0):\n",
    "        for filestem in missing_ann:\n",
    "            image = (Path(imagepath)/filestem).with_suffix('.jpg')\n",
    "            try:\n",
    "                im = Image.open(image)\n",
    "            except FileNotFoundError:\n",
    "                #print('Could not create xml file: image not found: ',image)\n",
    "                bad_xml_file = (Path(an_dest)/filestem).with_suffix('.xml')\n",
    "                badlist.append(str(bad_xml_file))\n",
    "                next\n",
    "            else:\n",
    "                width, height = im.size\n",
    "                writer = Writer(image, width, height) # Writer(path, width, height)\n",
    "                outfile = str((Path(an_dest)/filestem).with_suffix('.xml'))\n",
    "                writer.save(outfile)\n",
    "                nc +=1\n",
    "    print(\"   Created \" + str(nc) + \" new annotation files; \")\n",
    "    if (len(badlist) > 0):\n",
    "        print(\"Warning: No annotation file written for \",len(badlist),\" xml files with no match to images.\")\n",
    "    return(badlist)"
   ]
  },
  {
   "cell_type": "code",
   "execution_count": 19,
   "metadata": {},
   "outputs": [],
   "source": [
    "#Calculate which images are missing annotations in a directory, and write 'empty' annotations for them.\n",
    "def add_missing_annotations(tempdir,imagedir,ann_dest,remove_list):\n",
    "    \"\"\"\n",
    "    Calculates which images in a directory are missing annotation and writes 'empty' annotation files for them.\n",
    "    Parameters:\n",
    "     \"\"\"\n",
    "    print('Annotation directory: ',ann_dest)\n",
    "    imgs = get_image_filepaths(tempdir,remove_list)\n",
    "    print('   Total images: ', len(imgs))\n",
    "    annotated_images = get_annotated_images(tempdir,remove_list)\n",
    "    print('   Annotated images: ',len(annotated_images))\n",
    "    missing_ann = calculate_missing_annotations(imgs,annotated_images)\n",
    "    print('   Missing annotations: ',len(missing_ann))\n",
    "    badlist = write_empty_annotations(imagedir,missing_ann,ann_dest)\n",
    "    return(badlist)"
   ]
  },
  {
   "cell_type": "markdown",
   "metadata": {},
   "source": [
    "## Process annotations"
   ]
  },
  {
   "cell_type": "code",
   "execution_count": 20,
   "metadata": {},
   "outputs": [],
   "source": [
    "#Wrap it all into one function\n",
    "def process_annotations(annotation_files,tempdir,imagedir,ann_dest,remove_list):\n",
    "    #Create subfolders of the /cdata/tanzania/temp/annotations directory to put annotations in\n",
    "    #The list is created directly from the annotation files.  Will not overwrite existing directories/files).\n",
    "    subdirs = get_subdirs(annotation_files,remove_list)\n",
    "    for sub in subdirs:\n",
    "        p = annotationpath/sub\n",
    "        p.mkdir(parents=True, exist_ok=True)\n",
    "    subdirs\n",
    "\n",
    "    #Add missing annotations.  No annotation will be created if the associated image file is missing\n",
    "    badlist = [] #List of filenames for annotation files where no associated image can be found\n",
    "    for ann_file in annotation_files:\n",
    "        unzip_ann_file(ann_file,tempdir)\n",
    "        copy_existing_annotations(tempdir,annotationpath,remove_list)\n",
    "        blist = add_missing_annotations(tempdir,imagedir,ann_dest,remove_list)\n",
    "        badlist = badlist + blist\n",
    "    return badlist"
   ]
  },
  {
   "cell_type": "code",
   "execution_count": 26,
   "metadata": {},
   "outputs": [
    {
     "name": "stdout",
     "output_type": "stream",
     "text": [
      "Clearing directory  /cdata/tanzania/temp/temp\n",
      "7z x  /cdata/tanzania/annotated_images/AIAIA/sl25-cfa-tnp_2013105-12-2020_08_11_07_45_04-pascal_voc_1.1.zip -o/cdata/tanzania/temp/temp\n",
      "Copied  382  files from temp to annotationpath\n",
      "Annotation directory:  /cdata/tanzania/temp/annotations\n",
      "   Total images:  968\n",
      "   Annotated images:  382\n",
      "   Missing annotations:  586\n",
      "   Created 586 new annotation files; \n",
      "Clearing directory  /cdata/tanzania/temp/temp\n",
      "7z x  /cdata/tanzania/annotated_images/AIAIA/rr17-cfa-zgf_20141104-08-2020_06_29_06_40_22-pascal_voc_1.1.zip -o/cdata/tanzania/temp/temp\n",
      "Copied  320  files from temp to annotationpath\n",
      "Annotation directory:  /cdata/tanzania/temp/annotations\n",
      "   Total images:  484\n",
      "   Annotated images:  320\n",
      "   Missing annotations:  164\n",
      "   Created 164 new annotation files; \n",
      "Clearing directory  /cdata/tanzania/temp/temp\n",
      "7z x  /cdata/tanzania/annotated_images/AIAIA/ta25-rke-20191201-2020_03_11_13_28_49-pascal_voc_1.1.zip -o/cdata/tanzania/temp/temp\n",
      "Copied  85  files from temp to annotationpath\n",
      "Annotation directory:  /cdata/tanzania/temp/annotations\n",
      "   Total images:  132\n",
      "   Annotated images:  85\n",
      "   Missing annotations:  47\n",
      "   Created 47 new annotation files; \n",
      "Clearing directory  /cdata/tanzania/temp/temp\n",
      "7z x  /cdata/tanzania/annotated_images/AIAIA/ta25-rke-20191127a-2020_03_06_09_05_38-pascal_voc_1.1.zip -o/cdata/tanzania/temp/temp\n",
      "Copied  81  files from temp to annotationpath\n",
      "Annotation directory:  /cdata/tanzania/temp/annotations\n",
      "   Total images:  110\n",
      "   Annotated images:  81\n",
      "   Missing annotations:  29\n",
      "   Created 29 new annotation files; \n",
      "Clearing directory  /cdata/tanzania/temp/temp\n",
      "7z x  /cdata/tanzania/annotated_images/AIAIA/ta25-rke-20191128a-2020_03_06_11_49_18-pascal_voc_1.1.zip -o/cdata/tanzania/temp/temp\n",
      "Copied  93  files from temp to annotationpath\n",
      "Annotation directory:  /cdata/tanzania/temp/annotations\n",
      "   Total images:  141\n",
      "   Annotated images:  93\n",
      "   Missing annotations:  48\n",
      "   Created 48 new annotation files; \n",
      "Clearing directory  /cdata/tanzania/temp/temp\n",
      "7z x  /cdata/tanzania/annotated_images/AIAIA/ta25-rke-20191202-3-2020_06_01_08_01_48-pascal_voc_1.1.zip -o/cdata/tanzania/temp/temp\n",
      "Copied  91  files from temp to annotationpath\n",
      "Annotation directory:  /cdata/tanzania/temp/annotations\n",
      "   Total images:  144\n",
      "   Annotated images:  91\n",
      "   Missing annotations:  53\n",
      "   Created 53 new annotation files; \n",
      "Clearing directory  /cdata/tanzania/temp/temp\n",
      "7z x  /cdata/tanzania/annotated_images/AIAIA/rr19-5el-20180920a-28a-2020_08_11_11_31_12-pascal_voc_1.1.zip -o/cdata/tanzania/temp/temp\n",
      "Copied  609  files from temp to annotationpath\n",
      "Annotation directory:  /cdata/tanzania/temp/annotations\n",
      "   Total images:  1015\n",
      "   Annotated images:  609\n",
      "   Missing annotations:  406\n",
      "   Created 366 new annotation files; \n",
      "Warning: No annotation file written for  40  xml files with no match to images.\n",
      "Clearing directory  /cdata/tanzania/temp/temp\n",
      "7z x  /cdata/tanzania/annotated_images/AIAIA/sl25-zgf_2013105-12-2020_08_11_12_04_49-pascal_voc_1.1.zip -o/cdata/tanzania/temp/temp\n",
      "Copied  372  files from temp to annotationpath\n",
      "Annotation directory:  /cdata/tanzania/temp/annotations\n",
      "   Total images:  1234\n",
      "   Annotated images:  372\n",
      "   Missing annotations:  862\n",
      "   Created 862 new annotation files; \n",
      "Clearing directory  /cdata/tanzania/temp/temp\n",
      "7z x  /cdata/tanzania/annotated_images/AIAIA/rr17-sgr-twr_20141111-14-2020_08_11_13_14_30-pascal_voc_1.1.zip -o/cdata/tanzania/temp/temp\n",
      "Copied  207  files from temp to annotationpath\n",
      "Annotation directory:  /cdata/tanzania/temp/annotations\n",
      "   Total images:  321\n",
      "   Annotated images:  207\n",
      "   Missing annotations:  114\n",
      "   Created 114 new annotation files; \n",
      "Clearing directory  /cdata/tanzania/temp/temp\n",
      "7z x  /cdata/tanzania/annotated_images/AIAIA/ta25-twr-1201-3-2020_06_08_14_33_26-pascal_voc_1.1.zip -o/cdata/tanzania/temp/temp\n",
      "Copied  432  files from temp to annotationpath\n",
      "Annotation directory:  /cdata/tanzania/temp/annotations\n",
      "   Total images:  603\n",
      "   Annotated images:  432\n",
      "   Missing annotations:  171\n",
      "   Created 171 new annotation files; \n"
     ]
    }
   ],
   "source": [
    "#CALL: process_annotations()\n",
    "tempdir = Path('/cdata/tanzania/temp/temp')\n",
    "rlist = ['Annotations','CVAT']\n",
    "badlist = process_annotations(annotation_files,tempdir,imagepath,annotationpath,rlist)\n",
    "#Delete the bad xml files (which have no matching image) from annotationpath\n",
    "for f in badlist:\n",
    "    f.unlink()"
   ]
  },
  {
   "cell_type": "code",
   "execution_count": null,
   "metadata": {},
   "outputs": [],
   "source": [
    "# Exception: Each image in `/cdata/tanzania/annotated_images/RR19/RR19-5EL-20180920A-28A` must have its \n",
    "# corresponding XML file in `/cdata/tanzania/temp/annotations/RR19/RR19-5EL-20180920A-28A` with the same file name."
   ]
  },
  {
   "cell_type": "markdown",
   "metadata": {},
   "source": [
    "## Manually delete some problematic nonmatching files\n",
    "#### TODO: Perhaps add this to annotation processing so it happens automatically."
   ]
  },
  {
   "cell_type": "code",
   "execution_count": 21,
   "metadata": {},
   "outputs": [],
   "source": [
    "def find_nonmatching_files(imagepath,annotationpath,folder):\n",
    "    #Get image files\n",
    "    impth = imagepath/folder\n",
    "    imlist = list(impth.glob('*.jpg'))\n",
    "    imfiles = [str(Path(im).relative_to(imagepath).with_suffix('')) for im in imlist]\n",
    "    #Get annotation files that should match\n",
    "    anpth = Path(annotationpath)/folder\n",
    "    anlist = list(anpth.glob('*.xml'))\n",
    "    anfiles = [str(Path(af).relative_to(annotationpath).with_suffix('')) for af in anlist]\n",
    "    image_hasno_xml = [f for f in imfiles if f not in anfiles]\n",
    "    xml_hasno_image = [f for f in anfiles if f not in imfiles]\n",
    "    return (image_hasno_xml,xml_hasno_image)\n",
    "    "
   ]
  },
  {
   "cell_type": "code",
   "execution_count": null,
   "metadata": {},
   "outputs": [],
   "source": [
    "#Call it\n",
    "(image_hasno_xml,xml_hasno_image) = find_nonmatching_files(imagepath,annotationpath,'RR19/RR19-5EL-20180920A-28A')"
   ]
  },
  {
   "cell_type": "code",
   "execution_count": null,
   "metadata": {},
   "outputs": [],
   "source": [
    "#Delete files from annotationpath (but this does not affect the original zipfile)\n",
    "for f in xml_hasno_image:\n",
    "    xmlpath = annotationpath/Path(f).with_suffix('.xml')\n",
    "    xmlpath.unlink()\n",
    "    print('Deleted ',xmlpath)"
   ]
  },
  {
   "cell_type": "markdown",
   "metadata": {},
   "source": [
    "# Tile images\n",
    "For this step, I forked a Python package called **'image_bbox_slicer'** and named the new package **'image_bbox_tiler'** to make it distinguishable for import.  The main changes made were:\n",
    "1. The original package discarded any pixels that fall outside an even multiple of the tile size.  That wastes a lot of data if the tiles are large.  Each image is now padded with zeros out to an even multiple of tile size _before_ tiling it so no data is lost, and the padding works correctly if the images are of different sizes.  \n",
    "2. The tile overlap math, tile size calculations, and row and column indexes were fixed to make them precisely correct (instead of various rough approximations, truncations, etc.);\n",
    "3. Fixed a problem with float values in annotations that caused a display error;\n",
    "4. Built in the capability to sample a variable proportion of empty tiles;\n",
    "5. Revamped tile naming so that tiles are named with row and column indexes to make future reassembly easier.\n",
    "6. Modified the code so tiles that are not saved are not created in the first place, to save memory and CPU cycles;\n",
    "7. Made the tiled images display in the correct row and column relative to the original image, and to show padding (the placement of tiles in the original package was approximate, relative to the source image).\n",
    "8. Images (but not yet annotations) can now be found by recursive search; i.e., the `im_src` directory can be pointed at a parent directory that contains subdirectories with images in them.\n",
    "9. Bounding boxes fragments that are smaller than tile overlap in the appropriate dimension can be excluded (see next)"
   ]
  },
  {
   "cell_type": "markdown",
   "metadata": {},
   "source": [
    "## Excluding bounding box fragments\n",
    "The problem: When tiling images to generate training data, the associated bounding boxes must also be tiled.  Splitting bounding boxes across tiles creates box fragments on one side of a tile boundary.  For a deep learning model, it is desirable to exclude small box fragments because they are very unlikely to contain a recognizable object. Overlapping the tiles helps to reduce the problem, but does not eliminate fragments.  \n",
    "\n",
    "**The method implemented here allows the user to ensure that no feature smaller than the tile overlap will be excluded, while getting rid of all smaller fragments.**\n",
    "\n",
    "In the diagram below, the large box is a tile and the overlap with adjacent tiles is shown by dotted lines. The `exclude_fragments=True` option would exclude all three bounding boxes shown below in yellow (A, B, and C) from the tile.  For simplicity, bounding boxes are only shown on the bottom and right of the tile in the image, but the behavior is identical for the top and left edges of the tile, respectively.\n",
    "\n",
    "**Decision rule:**\n",
    "Given that a rectangular bounding box can have 1, 2, or 4 (but not 3) corners inside a rectangular tile if they are aligned:\n",
    "- If 1 corner of the box is in the tile: \n",
    "    - if (box_w < tile_overlap_w) or (box_h < tile_overlap_h): discard the box\n",
    "- If 2 corners of the box are in the tile:\n",
    "    - if the box is on the left or right side of the tile and (box_w < tile_overlap_w): discard  \n",
    "    - if the box is on the top or bottom of the tile and (box_h < tile_overlap_h): discard\n",
    "- Include the bounding box in all other cases.\n",
    "\n",
    "In the figure, the green bounding boxes would all be included in the annotations for this tile.  Box D will be recorded in this tile only; box E will be sliced in half and will be recorded (with overlap) in this tile and the tile below it.  Box F will be recorded in both this tile and the tile below it.  Box G will appear on this tile and in the tile to the right of it (minus the part to the left of the dotted line). Boxes A, B and C will not be recorded in this tile, but _will_ be recorded on adjacent tiles.  \n"
   ]
  },
  {
   "attachments": {
    "bbox_fragments.png": {
     "image/png": "[encoded data removed]"
    }
   },
   "cell_type": "markdown",
   "metadata": {},
   "source": [
    "![bbox_fragments.png](attachment:bbox_fragments.png)"
   ]
  },
  {
   "cell_type": "markdown",
   "metadata": {},
   "source": [
    "## Tile two test images (don't skip this step)"
   ]
  },
  {
   "cell_type": "code",
   "execution_count": null,
   "metadata": {},
   "outputs": [],
   "source": [
    "rlist = ['Annotations','CVAT']\n",
    "subdirs = get_subdirs(annotation_files,rlist)\n",
    "subdirs"
   ]
  },
  {
   "cell_type": "code",
   "execution_count": 24,
   "metadata": {},
   "outputs": [],
   "source": [
    "#TEMPORARY: set paths to \"test2\" directory\n",
    "im_src = 'test2/images' \n",
    "an_src = 'test2/annotations'\n",
    "im_dst = 'test2/tiled_images'\n",
    "an_dst = 'test2/tiled_annotations'\n",
    "badlist = []"
   ]
  },
  {
   "cell_type": "code",
   "execution_count": 25,
   "metadata": {},
   "outputs": [],
   "source": [
    "#Instantiate the slicer\n",
    "slicer = ibs.Slicer()\n",
    "slicer.config_dirs(img_src=im_src, ann_src=an_src,img_dst=im_dst, ann_dst=an_dst,badlist=badlist) "
   ]
  },
  {
   "cell_type": "code",
   "execution_count": 26,
   "metadata": {},
   "outputs": [],
   "source": [
    "#Configure the slicer\n",
    "slicer.ignore_empty_tiles = True #Discards empty tiles, EXCEPT that if sample_empty > 0 it will sample the empties anyway.\n",
    "slicer.keep_partial_labels = True #Does not discard bboxes that cross tile boundaries\n",
    "slicer.save_before_after_map = True #Writes a csv file with filename/tilenames\n",
    "slicer.exclude_fragments = False #Excludes bounding box fragments if they are smaller than tile overlap in appropriate direction\n",
    "\n",
    "#tile_overlap: float (percentage of tile overlap between two consecutive strides).\n",
    "#Image 2 is (6490, 4510) pixels"
   ]
  },
  {
   "cell_type": "code",
   "execution_count": null,
   "metadata": {},
   "outputs": [],
   "source": [
    "#Slice away!\n",
    "slicer.slice_by_size(tile_size=(500,500), tile_overlap=0.20,empty_sample=.005)"
   ]
  },
  {
   "cell_type": "code",
   "execution_count": null,
   "metadata": {},
   "outputs": [],
   "source": [
    "#Pick an image and its tiles at random (BE PATIENT -- the tiled matrix is very slow to render)\n",
    "slicer.visualize_sliced_random()"
   ]
  },
  {
   "cell_type": "markdown",
   "metadata": {},
   "source": [
    "# Factory tiling\n",
    "**Note: the Slicer is configured inside a loop below, since we have to pass it different directories.**"
   ]
  },
  {
   "cell_type": "code",
   "execution_count": 22,
   "metadata": {},
   "outputs": [
    {
     "data": {
      "text/plain": [
       "['SL25/SL25-CFA-TNP_2013105-12',\n",
       " 'RR17/RR17-CFA-ZGF_20141104-08',\n",
       " 'TA25/_data/RKE/TA25-RKE-20191201A/TA25-RKE-20191201A_R',\n",
       " 'TA25/_data/RKE/TA25-RKE-20191201B/TA25-RKE-20191201B_L',\n",
       " 'TA25/_data/RKE/TA25-RKE-20191201A/TA25-RKE-20191201A_L',\n",
       " 'TA25/_data/RKE/TA25-RKE-20191127A/TA25-RKE-20191127A_L',\n",
       " 'TA25/_data/RKE/TA25-RKE-20191128A/TA25-RKE-20191128A_L',\n",
       " 'TA25/_data/RKE/TA25-RKE-20191128A/TA25-RKE-20191128A_R',\n",
       " 'TA25/_data/RKE/TA25-RKE-20191203B/TA25-RKE-20191203B_R',\n",
       " 'TA25/_data/RKE/TA25-RKE-20191203A/TA25-RKE-20191203A_L',\n",
       " 'TA25/_data/RKE/TA25-RKE-20191202A/TA25-RKE-20191202A_L',\n",
       " 'TA25/_data/RKE/TA25-RKE-20191202A/TA25-RKE-20191202A_R',\n",
       " 'TA25/_data/RKE/TA25-RKE-20191203A/TA25-RKE-20191203A_R',\n",
       " 'TA25/_data/RKE/TA25-RKE-20191203B/TA25-RKE-20191203B_L',\n",
       " 'RR19/RR19-5EL-20180920A-28A',\n",
       " 'SL25/SL25-ZGF_2013105-12',\n",
       " 'RR17/RR17-SGR-TWR_20141111-14',\n",
       " 'TA25/_data/TWR/TA25-TWR-20191201B/TA25-TWR-20191201B_R',\n",
       " 'TA25/_data/TWR/TA25-TWR-20191202A/TA25-TWR-20191202A_R',\n",
       " 'TA25/_data/TWR/TA25-TWR-20191203A/TA25-TWR-20191203A_R',\n",
       " 'TA25/_data/TWR/TA25-TWR-20191201A/TA25-TWR-20191201A_R']"
      ]
     },
     "execution_count": 22,
     "metadata": {},
     "output_type": "execute_result"
    }
   ],
   "source": [
    "rlist = ['Annotations','CVAT']\n",
    "subdirs = get_subdirs(annotation_files,rlist)\n",
    "subdirs"
   ]
  },
  {
   "cell_type": "code",
   "execution_count": 23,
   "metadata": {},
   "outputs": [],
   "source": [
    "#Set main paths (repeated here for convenience when restarting the kernel)\n",
    "#Set main paths\n",
    "imagepath = Path('/cdata/tanzania/annotated_images') # Parent folder for all images\n",
    "annotation_source_path = Path('/cdata/tanzania/annotated_images/AIAIA') #Where original zipped annotation files are\n",
    "annotationpath = Path('/cdata/tanzania/temp/annotations') #Destination parent folder for unzipped annotation files (where we want them to go)"
   ]
  },
  {
   "cell_type": "code",
   "execution_count": 24,
   "metadata": {},
   "outputs": [
    {
     "data": {
      "text/plain": [
       "['/cdata/tanzania/annotated_images/AIAIA/sl25-cfa-tnp_2013105-12-2020_08_11_07_45_04-pascal_voc_1.1.zip',\n",
       " '/cdata/tanzania/annotated_images/AIAIA/rr17-cfa-zgf_20141104-08-2020_06_29_06_40_22-pascal_voc_1.1.zip',\n",
       " '/cdata/tanzania/annotated_images/AIAIA/ta25-rke-20191201-2020_03_11_13_28_49-pascal_voc_1.1.zip',\n",
       " '/cdata/tanzania/annotated_images/AIAIA/ta25-rke-20191127a-2020_03_06_09_05_38-pascal_voc_1.1.zip',\n",
       " '/cdata/tanzania/annotated_images/AIAIA/ta25-rke-20191128a-2020_03_06_11_49_18-pascal_voc_1.1.zip',\n",
       " '/cdata/tanzania/annotated_images/AIAIA/ta25-rke-20191202-3-2020_06_01_08_01_48-pascal_voc_1.1.zip',\n",
       " '/cdata/tanzania/annotated_images/AIAIA/rr19-5el-20180920a-28a-2020_08_11_11_31_12-pascal_voc_1.1.zip',\n",
       " '/cdata/tanzania/annotated_images/AIAIA/sl25-zgf_2013105-12-2020_08_11_12_04_49-pascal_voc_1.1.zip',\n",
       " '/cdata/tanzania/annotated_images/AIAIA/rr17-sgr-twr_20141111-14-2020_08_11_13_14_30-pascal_voc_1.1.zip',\n",
       " '/cdata/tanzania/annotated_images/AIAIA/ta25-twr-1201-3-2020_06_08_14_33_26-pascal_voc_1.1.zip']"
      ]
     },
     "execution_count": 24,
     "metadata": {},
     "output_type": "execute_result"
    }
   ],
   "source": [
    "#Get Pascal-VOC annotation files\n",
    "annotation_files = [str(x) for x in annotation_source_path.iterdir() if str(x).find('pascal') > 0 and x.suffix == '.zip'] #convert strings to Paths and get parent folder\n",
    "annotation_files"
   ]
  },
  {
   "cell_type": "code",
   "execution_count": 111,
   "metadata": {},
   "outputs": [
    {
     "name": "stdout",
     "output_type": "stream",
     "text": [
      "Obtained 3142 annotation slices!\n",
      "Successfully saved the mapping between files before and after slicing at /cdata/tanzania/temp/tiled_annotations\n",
      "Obtained 3142 image slices!\n",
      "Successfully saved the mapping between files before and after slicing at /cdata/tanzania/temp/tiled_images\n"
     ]
    },
    {
     "name": "stderr",
     "output_type": "stream",
     "text": [
      "/data2/home/egdod/jdev/image_bbox_tiler/image_bbox_slicer/helpers.py:113: UserWarning: Destination directory /cdata/tanzania/temp/tiled_images already has some files\n",
      "  warnings.warn(\n",
      "/data2/home/egdod/jdev/image_bbox_tiler/image_bbox_slicer/helpers.py:113: UserWarning: Destination directory /cdata/tanzania/temp/tiled_annotations already has some files\n",
      "  warnings.warn(\n"
     ]
    },
    {
     "name": "stdout",
     "output_type": "stream",
     "text": [
      "Obtained 2356 annotation slices!\n",
      "Successfully saved the mapping between files before and after slicing at /cdata/tanzania/temp/tiled_annotations\n",
      "Obtained 2356 image slices!\n",
      "Successfully saved the mapping between files before and after slicing at /cdata/tanzania/temp/tiled_images\n",
      "Obtained 228 annotation slices!\n",
      "Successfully saved the mapping between files before and after slicing at /cdata/tanzania/temp/tiled_annotations\n",
      "Obtained 228 image slices!\n",
      "Successfully saved the mapping between files before and after slicing at /cdata/tanzania/temp/tiled_images\n",
      "Obtained 425 annotation slices!\n",
      "Successfully saved the mapping between files before and after slicing at /cdata/tanzania/temp/tiled_annotations\n",
      "Obtained 425 image slices!\n",
      "Successfully saved the mapping between files before and after slicing at /cdata/tanzania/temp/tiled_images\n",
      "Obtained 176 annotation slices!\n",
      "Successfully saved the mapping between files before and after slicing at /cdata/tanzania/temp/tiled_annotations\n",
      "Obtained 176 image slices!\n",
      "Successfully saved the mapping between files before and after slicing at /cdata/tanzania/temp/tiled_images\n",
      "Obtained 1223 annotation slices!\n",
      "Successfully saved the mapping between files before and after slicing at /cdata/tanzania/temp/tiled_annotations\n",
      "Obtained 1223 image slices!\n",
      "Successfully saved the mapping between files before and after slicing at /cdata/tanzania/temp/tiled_images\n",
      "Obtained 704 annotation slices!\n",
      "Successfully saved the mapping between files before and after slicing at /cdata/tanzania/temp/tiled_annotations\n",
      "Obtained 704 image slices!\n",
      "Successfully saved the mapping between files before and after slicing at /cdata/tanzania/temp/tiled_images\n",
      "Obtained 526 annotation slices!\n",
      "Successfully saved the mapping between files before and after slicing at /cdata/tanzania/temp/tiled_annotations\n",
      "Obtained 526 image slices!\n",
      "Successfully saved the mapping between files before and after slicing at /cdata/tanzania/temp/tiled_images\n",
      "Obtained 71 annotation slices!\n",
      "Successfully saved the mapping between files before and after slicing at /cdata/tanzania/temp/tiled_annotations\n",
      "Obtained 71 image slices!\n",
      "Successfully saved the mapping between files before and after slicing at /cdata/tanzania/temp/tiled_images\n",
      "Obtained 391 annotation slices!\n",
      "Successfully saved the mapping between files before and after slicing at /cdata/tanzania/temp/tiled_annotations\n",
      "Obtained 391 image slices!\n",
      "Successfully saved the mapping between files before and after slicing at /cdata/tanzania/temp/tiled_images\n",
      "Obtained 392 annotation slices!\n",
      "Successfully saved the mapping between files before and after slicing at /cdata/tanzania/temp/tiled_annotations\n",
      "Obtained 392 image slices!\n",
      "Successfully saved the mapping between files before and after slicing at /cdata/tanzania/temp/tiled_images\n",
      "Obtained 92 annotation slices!\n",
      "Successfully saved the mapping between files before and after slicing at /cdata/tanzania/temp/tiled_annotations\n",
      "Obtained 92 image slices!\n",
      "Successfully saved the mapping between files before and after slicing at /cdata/tanzania/temp/tiled_images\n",
      "Obtained 89 annotation slices!\n",
      "Successfully saved the mapping between files before and after slicing at /cdata/tanzania/temp/tiled_annotations\n",
      "Obtained 89 image slices!\n",
      "Successfully saved the mapping between files before and after slicing at /cdata/tanzania/temp/tiled_images\n",
      "Obtained 83 annotation slices!\n",
      "Successfully saved the mapping between files before and after slicing at /cdata/tanzania/temp/tiled_annotations\n",
      "Obtained 83 image slices!\n",
      "Successfully saved the mapping between files before and after slicing at /cdata/tanzania/temp/tiled_images\n",
      "Obtained 5777 annotation slices!\n",
      "Successfully saved the mapping between files before and after slicing at /cdata/tanzania/temp/tiled_annotations\n",
      "Obtained 5777 image slices!\n",
      "Successfully saved the mapping between files before and after slicing at /cdata/tanzania/temp/tiled_images\n",
      "Obtained 1437 annotation slices!\n",
      "Successfully saved the mapping between files before and after slicing at /cdata/tanzania/temp/tiled_annotations\n",
      "Obtained 1437 image slices!\n",
      "Successfully saved the mapping between files before and after slicing at /cdata/tanzania/temp/tiled_images\n",
      "Obtained 2231 annotation slices!\n",
      "Successfully saved the mapping between files before and after slicing at /cdata/tanzania/temp/tiled_annotations\n",
      "Obtained 2231 image slices!\n",
      "Successfully saved the mapping between files before and after slicing at /cdata/tanzania/temp/tiled_images\n",
      "Obtained 1781 annotation slices!\n",
      "Successfully saved the mapping between files before and after slicing at /cdata/tanzania/temp/tiled_annotations\n",
      "Obtained 1781 image slices!\n",
      "Successfully saved the mapping between files before and after slicing at /cdata/tanzania/temp/tiled_images\n",
      "Obtained 1655 annotation slices!\n",
      "Successfully saved the mapping between files before and after slicing at /cdata/tanzania/temp/tiled_annotations\n",
      "Obtained 1655 image slices!\n",
      "Successfully saved the mapping between files before and after slicing at /cdata/tanzania/temp/tiled_images\n",
      "Obtained 503 annotation slices!\n",
      "Successfully saved the mapping between files before and after slicing at /cdata/tanzania/temp/tiled_annotations\n",
      "Obtained 503 image slices!\n",
      "Successfully saved the mapping between files before and after slicing at /cdata/tanzania/temp/tiled_images\n",
      "Obtained 999 annotation slices!\n",
      "Successfully saved the mapping between files before and after slicing at /cdata/tanzania/temp/tiled_annotations\n",
      "Obtained 999 image slices!\n",
      "Successfully saved the mapping between files before and after slicing at /cdata/tanzania/temp/tiled_images\n"
     ]
    }
   ],
   "source": [
    "#CALL: TILE ALL IMAGES\n",
    "\n",
    "#Set up image paths. The destination (where tiles go) is the same for all files; sources change each time.\n",
    "\n",
    "#Destinations\n",
    "im_dst = '/cdata/tanzania/temp/tiled_images'\n",
    "an_dst = '/cdata/tanzania/temp/tiled_annotations'\n",
    "\n",
    "#Sources\n",
    "subdirs = get_subdirs(annotation_files,rlist)\n",
    "\n",
    "for sub in subdirs:\n",
    "    \n",
    "    #Set image and annotation sourcepaths\n",
    "    im_src = str(imagepath/sub) #Put together the filename\n",
    "    an_src = str(annotationpath/sub)\n",
    "    \n",
    "    #Instantiate the slicer\n",
    "    slicer = ibs.Slicer()\n",
    "    slicer.config_dirs(img_src=im_src, ann_src=an_src,img_dst=im_dst, ann_dst=an_dst,badlist=badlist) \n",
    "    \n",
    "    #Configure the slicer\n",
    "    slicer.ignore_empty_tiles = True #Discards empty tiles, EXCEPT that if sample_empty > 0 it will sample the empties anyway.\n",
    "    slicer.keep_partial_labels = True #Does not discard bboxes that cross tile boundaries\n",
    "    slicer.save_before_after_map = True #Writes a csv file with filename/tilenames\n",
    "    slicer.exclude_fragments = True #Excludes bounding box fragments if they are smaller than tile overlap in appropriate direction\n",
    "    \n",
    "    #Slice away. Should produce 4 lines of output per subdirectory. \n",
    "    slicer.slice_by_size(tile_size=(500,500), tile_overlap=0.20,empty_sample=.005)\n",
    " "
   ]
  },
  {
   "cell_type": "code",
   "execution_count": 60,
   "metadata": {},
   "outputs": [
    {
     "data": {
      "text/plain": [
       "'/cdata/tanzania/temp/annotations/SL25/SL25-CFA-TNP_2013105-12'"
      ]
     },
     "execution_count": 60,
     "metadata": {},
     "output_type": "execute_result"
    }
   ],
   "source": [
    "str(annotationpath/sub)"
   ]
  },
  {
   "cell_type": "markdown",
   "metadata": {},
   "source": [
    "### Visualize a random sliced image\n",
    "\n",
    "**TODO: FIX MAPPER**.  This code works but relies on a `mapper.txt` file to find files, and the original code writes two different mappers; one to `/img_dst` and the other to `/ann_dst`.  Both get overwritten when I execute the code on multiple source directories.  These need to be fixed; probably should write mapper to both `/img_src` and `/ann_src` (not destination) and also accumulate a master mapper file and write it to `/tiled_annotations`.  "
   ]
  },
  {
   "cell_type": "code",
   "execution_count": 32,
   "metadata": {},
   "outputs": [
    {
     "data": {
      "text/plain": [
       "['SL25/SL25-CFA-TNP_2013105-12',\n",
       " 'RR17/RR17-CFA-ZGF_20141104-08',\n",
       " 'TA25/_data/RKE/TA25-RKE-20191201A/TA25-RKE-20191201A_R',\n",
       " 'TA25/_data/RKE/TA25-RKE-20191201B/TA25-RKE-20191201B_L',\n",
       " 'TA25/_data/RKE/TA25-RKE-20191201A/TA25-RKE-20191201A_L',\n",
       " 'TA25/_data/RKE/TA25-RKE-20191127A/TA25-RKE-20191127A_L',\n",
       " 'TA25/_data/RKE/TA25-RKE-20191128A/TA25-RKE-20191128A_L',\n",
       " 'TA25/_data/RKE/TA25-RKE-20191128A/TA25-RKE-20191128A_R',\n",
       " 'TA25/_data/RKE/TA25-RKE-20191203B/TA25-RKE-20191203B_R',\n",
       " 'TA25/_data/RKE/TA25-RKE-20191203A/TA25-RKE-20191203A_L',\n",
       " 'TA25/_data/RKE/TA25-RKE-20191202A/TA25-RKE-20191202A_L',\n",
       " 'TA25/_data/RKE/TA25-RKE-20191202A/TA25-RKE-20191202A_R',\n",
       " 'TA25/_data/RKE/TA25-RKE-20191203A/TA25-RKE-20191203A_R',\n",
       " 'TA25/_data/RKE/TA25-RKE-20191203B/TA25-RKE-20191203B_L',\n",
       " 'RR19/RR19-5EL-20180920A-28A',\n",
       " 'SL25/SL25-ZGF_2013105-12',\n",
       " 'RR17/RR17-SGR-TWR_20141111-14',\n",
       " 'TA25/_data/TWR/TA25-TWR-20191201B/TA25-TWR-20191201B_R',\n",
       " 'TA25/_data/TWR/TA25-TWR-20191202A/TA25-TWR-20191202A_R',\n",
       " 'TA25/_data/TWR/TA25-TWR-20191203A/TA25-TWR-20191203A_R',\n",
       " 'TA25/_data/TWR/TA25-TWR-20191201A/TA25-TWR-20191201A_R']"
      ]
     },
     "execution_count": 32,
     "metadata": {},
     "output_type": "execute_result"
    }
   ],
   "source": [
    "subdirs"
   ]
  },
  {
   "cell_type": "code",
   "execution_count": 35,
   "metadata": {},
   "outputs": [
    {
     "data": {
      "text/plain": [
       "'TA25/_data/TWR/TA25-TWR-20191203A/TA25-TWR-20191203A_R'"
      ]
     },
     "execution_count": 35,
     "metadata": {},
     "output_type": "execute_result"
    }
   ],
   "source": [
    "len(subdirs)\n",
    "subdirs[19]"
   ]
  },
  {
   "cell_type": "code",
   "execution_count": 38,
   "metadata": {},
   "outputs": [],
   "source": [
    "#Note: this will look at the last subdirectory tiled\n",
    "\n",
    "sub = subdirs[19]\n",
    "#Test source (a single subdirectory with 17 images)\n",
    "#sub = 'TA25-RKE-20191203B'\n",
    "\n",
    "#Destinations\n",
    "im_dst = '/cdata/tanzania/temp/tiled_images'\n",
    "an_dst = '/cdata/tanzania/temp/tiled_annotations'\n",
    "\n",
    "#Set image and annotation sourcepaths\n",
    "im_src = str(imagepath/sub) #Put together the filename\n",
    "an_src = str(annotationpath/sub)\n",
    "\n",
    "#Instantiate the slicer\n",
    "slicer = ibs.Slicer()\n",
    "slicer.config_dirs(img_src=im_src, ann_src=an_src,img_dst=im_dst, ann_dst=an_dst)\n",
    "\n",
    "#Configure the slicer\n",
    "slicer.ignore_empty_tiles = True #Discards empty tiles, EXCEPT that if sample_empty > 0 it will sample the empties anyway.\n",
    "slicer.keep_partial_labels = True #Does not discard bboxes that cross tile boundaries\n",
    "slicer.save_before_after_map = True #Writes a csv file with filename/tilenames\n",
    "slicer.exclude_fragments = True #Excludes bounding box fragments if they are smaller than tile overlap in appropriate directiona"
   ]
  },
  {
   "cell_type": "code",
   "execution_count": 30,
   "metadata": {},
   "outputs": [
    {
     "data": {
      "text/plain": [
       "'TA25/_data/TWR/TA25-TWR-20191202A/TA25-TWR-20191202A_R'"
      ]
     },
     "execution_count": 30,
     "metadata": {},
     "output_type": "execute_result"
    }
   ],
   "source": [
    "sub"
   ]
  },
  {
   "cell_type": "code",
   "execution_count": null,
   "metadata": {},
   "outputs": [],
   "source": [
    "slicer.visualize_sliced_random(an_dst)"
   ]
  },
  {
   "cell_type": "markdown",
   "metadata": {},
   "source": [
    "# Code scraps"
   ]
  },
  {
   "cell_type": "markdown",
   "metadata": {},
   "source": [
    "## libvips (which has a Python wrapper called pyvips)\n",
    "**Howard, I'm thinking that we might want to use libvips when we do production tiling of non-annotated images, since there won't be any bounding boxes to worry about and it's fast.**\n",
    "The library is designed for working with very large images without blowing out RAM; it's fast and streamlined.  But libvips does not have a perfect tiling function; instead the author recommends the `dzsave` function, which is designed for making image pyramids for tiled imagery.\n",
    "The author answered some of my questions on StackExchange: \n",
    "1. Tile names are in the form `column_row.tif` if you save to the deepzoom format; \n",
    "2. \"`dzsave` outputs deepzoom / google maps / zoomify / iiif pyramids, so you get a choice from those naming conventions. \n",
    "3. \"Overlaps are just pixels that are shared between tiles, so eg. with overlap 1, the rightmost two columns in tile 0_0 are identical to the leftmost two column in tile 1_0. Set overlap to 0 if you want non-overlapping tiles.\"\n",
    "https://libvips.github.io/libvips/API/current/Making-image-pyramids.md.html\n",
    "\n",
    "```bash\n",
    "vips dzsave hugefile.tif outdir --depth one --tile-size 512 --overlap 0 --suffix .tif\n",
    "    --depth one #slices a large image into tiles, rather than making a pyramid.\n",
    "    overlap #Tile overlap in pixels--warning: input parameter 'gint' has a default of 1!\n",
    "    --background 0 #black\n",
    "```"
   ]
  },
  {
   "cell_type": "markdown",
   "metadata": {},
   "source": [
    "Comparing libvips to ImageMagick, libvips seems faster:"
   ]
  },
  {
   "cell_type": "code",
   "execution_count": 27,
   "metadata": {},
   "outputs": [],
   "source": [
    "# $ time convert -crop 512x512 +repage huge.tif x/image_out_%d.tif\n",
    "# real    0m5.623s\n",
    "# user    0m2.060s\n",
    "# sys     0m2.148s\n",
    "# $ time vips dzsave huge.tif x --depth one --tile-size 512 --overlap 0 --suffix .tif\n",
    "# real    0m1.643s\n",
    "# user    0m1.668s\n",
    "# sys     0m1.000s"
   ]
  },
  {
   "cell_type": "markdown",
   "metadata": {},
   "source": [
    "More libvips code examples"
   ]
  },
  {
   "cell_type": "code",
   "execution_count": 28,
   "metadata": {},
   "outputs": [],
   "source": [
    "# import pyvips\n",
    "\n",
    "# image = pyvips.Image.new_from_file('some-image.jpg', access='sequential')\n",
    "# image *= [1, 2, 1]\n",
    "# mask = pyvips.Image.new_from_array([[-1, -1, -1],\n",
    "#                                     [-1, 16, -1],\n",
    "#                                     [-1, -1, -1]\n",
    "#                                    ], scale=8)\n",
    "# image = image.conv(mask, precision='integer')\n",
    "# image.write_to_file('x.jpg')"
   ]
  },
  {
   "cell_type": "markdown",
   "metadata": {},
   "source": [
    "ImageMagick code for tiling **and renaming tiles by row and column**"
   ]
  },
  {
   "cell_type": "code",
   "execution_count": null,
   "metadata": {},
   "outputs": [],
   "source": [
    "magick hugeimage.png -crop 256x256 -set filename:f \"tile_%[fx:page.x],%[fx:page.y]_%[w]x%[h]\" \"%"
   ]
  },
  {
   "cell_type": "markdown",
   "metadata": {},
   "source": [
    "...and lastly, **a custom method for reducing the memory impact when using ImageMagick**."
   ]
  },
  {
   "cell_type": "code",
   "execution_count": null,
   "metadata": {},
   "outputs": [],
   "source": [
    "# #This version puts row and col in the filename (good for reassembly!).  Trick is to divide coordinate by cropsize.  \n",
    "# #He added 1001 instead of 1 to get constant-width numbers in the output. Nice!\n",
    "# #!/bin/bash\n",
    "# /usr/bin/convert bigimage.jpg -crop 256x256 \\\n",
    "#   -set filename:tile \"%[fx:page.x/256+1001]_%[fx:page.y/256+1001]\" \\\n",
    "#     +repage +adjoin \"tiled_%[filename:tile].jpg\"\n",
    "    \n",
    "# convert -verbose images\\0.png -crop 256x256 +adjoin -background white -extent 256x256 -set filename:tile \"%%[fx:floor(page.x/256)]_%%[fx:floor(page.y/256)]\" +repage \"tiles\\0_%%[filename:tile].png\"\n",
    "\n",
    "# #OR a 3-step method:\n",
    "# #1. convert to mpc (ImageMagick's native format)\n",
    "# convert -monitor -limit area 2mb myLargeImg.tif myLargeImg.mpc\n",
    "# #2. Bash program (potentially useful anyway)\n",
    "# #!/bin/bash\n",
    "#  src=$1\n",
    "#  width=`identify -format %w $src`\n",
    "#  limit=$[$width / 256]\n",
    "#  echo \"count = $limit * $limit = \"$((limit * limit))\" tiles\"\n",
    "#  limit=$((limit-1))\n",
    "#  for x in `seq 0 $limit`; do\n",
    "#    for y in `seq 0 $limit`; do\n",
    "#      tile=tile-$x-$y.png\n",
    "#      echo -n $tile\n",
    "#      w=$((x * 256))\n",
    "#      h=$((y * 256))\n",
    "#      convert -debug cache -monitor $src -crop 256x256+$w+$h $tile\n",
    "#    done\n",
    "#  done\n",
    "\n",
    "# #3. call the bash program\n",
    "#  sh ./tiler.sh myLargeImg.mpc\n",
    "    "
   ]
  },
  {
   "cell_type": "markdown",
   "metadata": {},
   "source": [
    "# Other random tidbits"
   ]
  },
  {
   "cell_type": "code",
   "execution_count": 43,
   "metadata": {},
   "outputs": [
    {
     "data": {
      "text/plain": [
       "[PosixPath('/cdata/tanzania/TA25/_data/RKE/TA25-RKE-20191128A/TA25-RKE-20191128A_R'),\n",
       " PosixPath('/cdata/tanzania/TA25/_data/RKE/TA25-RKE-20191128A/TA25-RKE-20191128A_L')]"
      ]
     },
     "execution_count": 43,
     "metadata": {},
     "output_type": "execute_result"
    }
   ],
   "source": [
    "#not needed, but could be useful anyway\n",
    "#Find the image file directories that go with the annotation file\n",
    "imageroot = Path('/cdata/tanzania/TA25/_data/RKE')/subdirs[0]\n",
    "annfile_imagepath = imageroot/subdirs[0]\n",
    "ann_target_folders = [ x for x in annfile_imagepath.glob(subdirs[0]+'*')]\n",
    "ann_target_folders"
   ]
  },
  {
   "cell_type": "code",
   "execution_count": null,
   "metadata": {},
   "outputs": [],
   "source": [
    "#Not needed but the separate counts for each directory are nice\n",
    "tot_images = []\n",
    "\n",
    "for d in range(0,len(ann_target_folders)):\n",
    "    imgs = None\n",
    "    imgs = get_image_files(ann_target_folders[d])\n",
    "    imgs = [str(im) for im in imgs]\n",
    "    print(str(ann_target_folders[d]),len(imgs),'image files')\n",
    "    tot_images = tot_images + imgs #Join lists\n",
    "    \n",
    "print('Total images: ',len(tot_images))"
   ]
  },
  {
   "cell_type": "code",
   "execution_count": 248,
   "metadata": {},
   "outputs": [],
   "source": [
    "#Create a little database associating annotation files with annotation subdirectories and image directories.\n",
    "#Note: most values are Pathlib Paths, not strings.\n",
    "# def find_target_dirs(imagepath,annotationpath,annotation_files):\n",
    "#     \"\"\"\n",
    "#     Uses the annotation filename to set a target directory for unzipping annotation files and\n",
    "#     to determine the parent directory for the corresponding images.  Returns a little database.\n",
    "#     \"\"\"\n",
    "#     records = []\n",
    "#     #Get subdirectories from the annotation file names (take the stem and drop \"_pascalvoc\")\n",
    "#     subdir_dict = get_subdir_dict(annotation_files)\n",
    "#     for f in annotation_files:\n",
    "#         #find the subdirectory in the filename and set it as the destination for unzipped files\n",
    "#         for sub in subdir_dict[f]:\n",
    "#             dest = Path('/cdata/tanzania/temp/annotations')/sub\n",
    "#             target_image_dir = imagepath/sub\n",
    "#             records.append([f,sub,dest,target_image_dir])            \n",
    "#     ann_db = pd.DataFrame(records, columns=['ann_sourcefile', 'subdirectory','ann_dest_dir','target_image_dir'])\n",
    "#     return (ann_db)"
   ]
  }
 ],
 "metadata": {
  "kernelspec": {
   "display_name": "Python [conda env:fastai2] *",
   "language": "python",
   "name": "conda-env-fastai2-py"
  },
  "language_info": {
   "codemirror_mode": {
    "name": "ipython",
    "version": 3
   },
   "file_extension": ".py",
   "mimetype": "text/x-python",
   "name": "python",
   "nbconvert_exporter": "python",
   "pygments_lexer": "ipython3",
   "version": "3.7.7"
  }
 },
 "nbformat": 4,
 "nbformat_minor": 4
}
