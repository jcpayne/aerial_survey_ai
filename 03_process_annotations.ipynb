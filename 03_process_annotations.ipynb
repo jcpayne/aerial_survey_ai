{
 "cells": [
  {
   "cell_type": "markdown",
   "id": "respective-signature",
   "metadata": {},
   "source": [
    "# Organizing images and annotations\n",
    "## How not to do it\n",
    "One of the most time-consuming aspects of machine learning is assembling training data that have a good balance between object categories and as much diversity as possible in image backgrounds.  **This notebook is really a master class in how _not_ to do it, because I failed to insist on a high enough level of organization early in the project. I am including it as a cautionary tale.** \n",
    "\n",
    "I started with: \n",
    "- An annotation format (Pascal-VOC) that requires an exact 1:1 match between images and annotations; \n",
    "- A very complicated folder structure for images, which mixed images that had been analyzed by a human with images that had never been examined;\n",
    "- A bunch of zip files with annotations whose filepaths didn't exactly match the image filepaths; and \n",
    "- Annotations from a program called CVAT that didn't produce output for empty images (therefore, it was challenging to figure out which had been examined).\n",
    "\n",
    "It was a ghastly nightmare to straighten it all out.\n",
    "\n",
    "## How to do it better\n",
    "To make the AI side of the project go smoothly, it will greatly help to insist on the following:\n",
    "1. **Unique names for images**.  This is absolutely worth doing, even if it takes time to set up.\n",
    "2. **A simple folder structure**.  Regardless of whatever complexity you may have in the initial stages of data collection, by the time you get to input for an AI model, you want _only two folders_ : 1) images, and 2) matching annotations.  There should be no extraneous files in either folder.\n",
    "3. **An annotation program whose output makes it possible to tell whether a file has been checked, even if there was nothing in it.** If you working with Pascal-VOC annotation, then you want it to provide an XML annnotation file for every image, _including_ 'empty' images.\n",
    "4. **Come to agreement soon on object categories**.  You probably won't have enough images to train the model on some categories.  It may make sense to lump or drop those categories, and it saves time to experiment and come to agreement on a final set before getting serious about training.  Adding or subtracting categories requires re-training the model head (at a minimum) so it is expensive to do it too late.  In addition, the raw annotations will undoubtedly include many that don't fall into your permitted categories.  Those can be handled during the dataloading process, but it is a good idea to anticipate and discuss how to handle them in advance."
   ]
  },
  {
   "cell_type": "markdown",
   "id": "pharmaceutical-designer",
   "metadata": {},
   "source": [
    "## Goal of this notebook\n",
    "\n",
    "1. To assemble a set of full-size images with:\n",
    "    - A good balance between classes (to the extent possible), including 'empty' images\n",
    "    - A diversity of backgrounds\n",
    "    - Clean up input labels and convert to a set of consistent labels from a restricted set of categories\n",
    "2. To ensure that all images (including empty ones) have annotation files in PVOC format with the correct categories;\n",
    "3. To ensure that all filenames are unique;\n",
    "4. To create an exactly matching (1:1) set of image files and annotations, with the same names but different extensions.\n"
   ]
  },
  {
   "cell_type": "markdown",
   "id": "coastal-export",
   "metadata": {},
   "source": [
    "### Directory structure (because I'll forget)"
   ]
  },
  {
   "cell_type": "markdown",
   "id": "optional-spain",
   "metadata": {},
   "source": [
    "The general structure is this:\n",
    "<pre>\n",
    "Original images (as received) are in:\n",
    "/cdata/tanzania/annotated_images/TA25 + others (RR17, RR19, SL25, MXJ-2019)\n",
    "            \\              \\        \\- _data/RKE \n",
    "             \\              \\          \n",
    "              \\              \\- AIAIA Original annotation zipfiles (all dirs)\n",
    "               \\                    \\- pvoc Pascal-VOC format zipfiles\n",
    "                \\ - /temp               \n",
    "                      |-/annotations -- Annotations (unzipped)  \n",
    "                      |-/tiled_annotations -- tiled annotations (flat)  \n",
    "                      |-/tiled_images -- tiled images (flat)  \n",
    "                      |-/temp --junk (used for moving unzipped files) \n",
    "</pre>\n",
    "The annotation subdirectory names (`annotations/subname`) match the image subdirectories to which they are related, but the image subdirectories may be further divided into additional subdirectories."
   ]
  },
  {
   "cell_type": "code",
   "execution_count": null,
   "id": "proprietary-opportunity",
   "metadata": {},
   "outputs": [],
   "source": [
    "!hostname"
   ]
  },
  {
   "cell_type": "code",
   "execution_count": 1,
   "id": "bigger-enclosure",
   "metadata": {},
   "outputs": [],
   "source": [
    "import sys\n",
    "from pathlib import Path\n",
    "sys.path.insert(1,str(Path.cwd().parent)) #A kludge for finding my own packages"
   ]
  },
  {
   "cell_type": "code",
   "execution_count": 3,
   "id": "sapphire-calculator",
   "metadata": {},
   "outputs": [],
   "source": [
    "from pathlib import Path\n",
    "#import xml.etree.ElementTree as ET\n",
    "from lxml import etree as et\n",
    "#from pascal_voc_writer import Writer\n",
    "from PIL import Image\n",
    "from torchvision.transforms.functional import pad as tvpad\n",
    "from torch import randperm\n",
    "import random\n",
    "import pdb\n",
    "import re #regex\n",
    "import subprocess\n",
    "import pandas as pd\n",
    "import zipfile\n",
    "import shutil\n",
    "import os\n",
    "import pyvips\n",
    "import pandas as pd"
   ]
  },
  {
   "cell_type": "code",
   "execution_count": 5,
   "id": "intellectual-anchor",
   "metadata": {},
   "outputs": [],
   "source": [
    "from trident_project.dev_packages.image_bbox_tiler import image_bbox_slicer as ibs\n",
    "from trident_project.dev_packages.pascal_voc_writer.pascal_voc_writer import Writer\n",
    "from trident_project.dev_packages import jp_utilities"
   ]
  },
  {
   "cell_type": "markdown",
   "id": "divided-circus",
   "metadata": {},
   "source": [
    "## Copy files from Amazon AWS onto a Microsoft Azure VM"
   ]
  },
  {
   "cell_type": "markdown",
   "id": "damaged-partition",
   "metadata": {},
   "source": [
    "We had a lot of data (full-sized images and annotations) in an Amazon AWS s3 storage 'bucket' that we wanted to transfer to a Microsoft Azure virtual machine (VM). The Azure migration tools assume that you are going to want the data in a 'file store' or 'blob store', but we wanted to put the data on a solid-state hard drive (SSD) that was attached to our Azure VM. AWS access control is complicated. We eventually discovered that the following method worked very fast and smoothly:\n",
    "\n",
    "1. Set up a [named profile](https://docs.aws.amazon.com/cli/latest/userguide/cli-configure-profiles.html) on AWS;\n",
    "2. Install the [aws-cli](https://docs.aws.amazon.com/cli/latest/reference/s3/cp.html) (the AWS command-line client) on the Azure VM;\n",
    "```bash\n",
    "curl \"https://awscli.amazonaws.com/awscli-exe-linux-x86_64.zip\" -o \"awscliv2.zip\"\n",
    "unzip awscliv2.zip\n",
    "sudo ./aws/install\n",
    "```\n",
    "3. Configure the AWS profile on the Azure VM (replace `<...>` with your data):\n",
    "```bash\n",
    "aws configure --profile <profile_name>\n",
    "    AWS Access Key ID [None]: <access_key>\n",
    "    AWS Secret Access Key [None]: <secret_key>\n",
    "    Default region name [None]: <AWS bucket region> #us-east or whatever \n",
    "    Default output format [None]:\n",
    "```\n",
    "3. Copy each of the directories you want, using the profile.  On the Azure VM:\n",
    "```bash\n",
    "cd <destination_image_directory>  \n",
    "aws s3 --profile <profile_name> sync s3://<bucket_name>/<folder>/ . #don't forget the dot\n",
    "```"
   ]
  },
  {
   "cell_type": "markdown",
   "id": "comfortable-pollution",
   "metadata": {},
   "source": [
    "## Extract and divide annotations\n",
    "Now it gets ugly.  This is necessary because annotation zipfiles can include images from more than one subdirectory.\n",
    "\n",
    "Steps:\n",
    "1. Figure out what subdirectories are represented in each annotation zipfile\n",
    "2. Extract the zipfile and divide the annotation files into subdirectories based on the folder in each filename\n",
    "3. Write missing annotation files for 'empty' images (see below for details)"
   ]
  },
  {
   "cell_type": "code",
   "execution_count": null,
   "id": "bound-disposition",
   "metadata": {},
   "outputs": [],
   "source": [
    "#Set main paths\n",
    "imagepath = Path('/cdata/tanzania/annotated_images') #Parent folder for fullsize images\n",
    "annotation_source_path = Path('/cdata/tanzania/annotated_images/AIAIA/pvoc') #Where original zipped annotation files are\n",
    "annotationpath = Path('/cdata/tanzania/temp/annotations') #Destination parent folder for unzipped annotation files"
   ]
  },
  {
   "cell_type": "code",
   "execution_count": 7,
   "id": "lightweight-convergence",
   "metadata": {},
   "outputs": [
    {
     "data": {
      "text/plain": [
       "['/cdata/tanzania/annotated_images/AIAIA/pvoc/TA25-RKE-20191128A-pvoc.zip',\n",
       " '/cdata/tanzania/annotated_images/AIAIA/pvoc/MXJ2019Db-pvoc.zip',\n",
       " '/cdata/tanzania/annotated_images/AIAIA/pvoc/MXJ2019b-pvoc.zip',\n",
       " '/cdata/tanzania/annotated_images/AIAIA/pvoc/TA25-RKE-20191201-pvoc.zip',\n",
       " '/cdata/tanzania/annotated_images/AIAIA/pvoc/MXJ2019Fa-pvoc.zip',\n",
       " '/cdata/tanzania/annotated_images/AIAIA/pvoc/SL25-CFA-TNP_2013105-12-pvoc.zip',\n",
       " '/cdata/tanzania/annotated_images/AIAIA/pvoc/SL25-ZGF_2013105-12-pvoc.zip',\n",
       " '/cdata/tanzania/annotated_images/AIAIA/pvoc/MXJ2019Ea-pvoc.zip',\n",
       " '/cdata/tanzania/annotated_images/AIAIA/pvoc/MXJ2019H-pvoc.zip',\n",
       " '/cdata/tanzania/annotated_images/AIAIA/pvoc/RR19-5EL-20180930A-1008A-pvoc.zip',\n",
       " '/cdata/tanzania/annotated_images/AIAIA/pvoc/MXJ2019Eb-pvoc.zip',\n",
       " '/cdata/tanzania/annotated_images/AIAIA/pvoc/MXJ2019Da-pvoc.zip',\n",
       " '/cdata/tanzania/annotated_images/AIAIA/pvoc/MXJ2019G-pvoc.zip',\n",
       " '/cdata/tanzania/annotated_images/AIAIA/pvoc/MXJ2019a-pvoc.zip',\n",
       " '/cdata/tanzania/annotated_images/AIAIA/pvoc/MXJ2019Fb-pvoc.zip',\n",
       " '/cdata/tanzania/annotated_images/AIAIA/pvoc/MXJ2019J-pvoc.zip',\n",
       " '/cdata/tanzania/annotated_images/AIAIA/pvoc/RR17-SGR-TWR_20141111-14-pvoc.zip',\n",
       " '/cdata/tanzania/annotated_images/AIAIA/pvoc/MXJ2019L-pvoc.zip',\n",
       " '/cdata/tanzania/annotated_images/AIAIA/pvoc/RR19-5EL-20180920A-28A-pvoc.zip',\n",
       " '/cdata/tanzania/annotated_images/AIAIA/pvoc/TA25-TWR-1201-3-pvoc.zip',\n",
       " '/cdata/tanzania/annotated_images/AIAIA/pvoc/MXJ2019I-pvoc.zip',\n",
       " '/cdata/tanzania/annotated_images/AIAIA/pvoc/TA25-RKE-20191202-3-pvoc.zip',\n",
       " '/cdata/tanzania/annotated_images/AIAIA/pvoc/MXJ2019K-pvoc.zip',\n",
       " '/cdata/tanzania/annotated_images/AIAIA/pvoc/MXJ2019Ca-pvoc.zip',\n",
       " '/cdata/tanzania/annotated_images/AIAIA/pvoc/MXJ2019Cb-pvoc.zip',\n",
       " '/cdata/tanzania/annotated_images/AIAIA/pvoc/RR17-CFA-ZGF_20141104-08-pvoc.zip',\n",
       " '/cdata/tanzania/annotated_images/AIAIA/pvoc/RR19-CFA-20180921A-1009A-pvoc.zip']"
      ]
     },
     "execution_count": 7,
     "metadata": {},
     "output_type": "execute_result"
    }
   ],
   "source": [
    "#Get Pascal-VOC zipped annotation files from annotation_source_path\n",
    "annotation_files = [str(x) for x in annotation_source_path.iterdir() if str(x).find('pvoc') > 0 and x.suffix == '.zip'] #convert strings to Paths and get parent folder\n",
    "annotation_files"
   ]
  },
  {
   "cell_type": "markdown",
   "id": "virtual-angle",
   "metadata": {},
   "source": [
    "### Some utilities for finding subdirectories in annotation files"
   ]
  },
  {
   "cell_type": "code",
   "execution_count": 6,
   "id": "declared-kitty",
   "metadata": {},
   "outputs": [],
   "source": [
    "def get_zipfile_directories(zfile):\n",
    "    \"\"\"\n",
    "    Returns a list of subdirectories found in the filenames in a zipfile; uses ZipFile.    \n",
    "    \"\"\"\n",
    "    #Get the filenames inside the zipfile\n",
    "    zpf = zipfile.ZipFile(zfile)\n",
    "    fnames = zpf.namelist()\n",
    "    #Get the directory of every file; and from there a list of unique directories\n",
    "    fdirs = list(set([str(Path(f).parent) for f in fnames]))\n",
    "    return (fdirs)"
   ]
  },
  {
   "cell_type": "code",
   "execution_count": 7,
   "id": "covered-distinction",
   "metadata": {},
   "outputs": [],
   "source": [
    "def get_zipfile_annotation_dirs(zfile,remove_list):\n",
    "    fdirs = get_zipfile_directories(zfile)\n",
    "    if len(fdirs) > 0:\n",
    "        #filter out only those subdirectories that start with 'Annotations'\n",
    "        anndirs = [f for f in fdirs if f.split('/',1)[0] =='Annotations'] \n",
    "        #Clean the directory names by removing some roots\n",
    "        subdirs = [clean_filepath(d,remove_list) for d in anndirs]\n",
    "    return subdirs"
   ]
  },
  {
   "cell_type": "code",
   "execution_count": 8,
   "id": "elementary-maple",
   "metadata": {},
   "outputs": [],
   "source": [
    "#Create a flat list of all subdirectories found in all annotation files\n",
    "def get_subdirs(annotation_files,remove_list):\n",
    "    subdirs = []\n",
    "    if not isinstance(annotation_files,list):\n",
    "        return get_zipfile_annotation_dirs(annotation_files,remove_list)\n",
    "    else:        \n",
    "        for f in annotation_files:\n",
    "            d = get_zipfile_annotation_dirs(f,remove_list)\n",
    "            subdirs = subdirs + d\n",
    "        return subdirs"
   ]
  },
  {
   "cell_type": "code",
   "execution_count": 9,
   "id": "sufficient-favor",
   "metadata": {},
   "outputs": [],
   "source": [
    "#Removes elements from a filepath iteratively, only if they are in the first position.\n",
    "#So to remove /Annotations or /Annotations/CVAT, remove_list should be [\"Annotations\",\"CVAT\"] in that order.\n",
    "def clean_filepath(fpath,remove_list):\n",
    "    if not isinstance(remove_list,list):\n",
    "        remove_list = list(remove_list)\n",
    "    p = Path(fpath)\n",
    "    for item in remove_list:\n",
    "        if len(p.parts) > 0:\n",
    "            if (p.parts[0]==item):\n",
    "                p = Path(*p.parts[1:])\n",
    "    return str(p)"
   ]
  },
  {
   "cell_type": "code",
   "execution_count": null,
   "id": "occupational-samba",
   "metadata": {},
   "outputs": [],
   "source": [
    "#Check out the subdirectories in this batch of annotation files\n",
    "rlist = ['Annotations','CVAT']\n",
    "#rlist = []\n",
    "get_subdirs(annotation_files,rlist)"
   ]
  },
  {
   "cell_type": "markdown",
   "id": "blond-despite",
   "metadata": {},
   "source": [
    "### Clear the temporary directory and unzip annotations to it"
   ]
  },
  {
   "cell_type": "code",
   "execution_count": 11,
   "id": "environmental-elephant",
   "metadata": {},
   "outputs": [],
   "source": [
    "def clear_directory(dir):\n",
    "    \"\"\"\n",
    "    Clear a directory (erase both files and folders but leave the directory itself)\n",
    "    \"\"\"\n",
    "    for filename in os.listdir(dir):\n",
    "        file_path = os.path.join(dir, filename)\n",
    "        try:\n",
    "            if os.path.isfile(file_path) or os.path.islink(file_path):\n",
    "                os.unlink(file_path)\n",
    "            elif os.path.isdir(file_path):\n",
    "                shutil.rmtree(file_path)\n",
    "        except Exception as e:\n",
    "            print('Failed to delete %s. Reason: %s' % (file_path, e))\n",
    "\n"
   ]
  },
  {
   "cell_type": "code",
   "execution_count": 12,
   "id": "acting-ambassador",
   "metadata": {},
   "outputs": [],
   "source": [
    "#Unzips a single annotation zipfile into a temporary directory, complete with relative filepaths\n",
    "#First we clear the temporary directory (delete files and folders)\n",
    "def unzip_ann_file(ann_file,tempdir):\n",
    "    \"\"\"Unzip an annotation file into a temporary directory, complete with relative filepaths\"\"\"\n",
    "    print(\"Clearing directory \",tempdir)\n",
    "    clear_directory(tempdir)\n",
    "        \n",
    "    #Unzip the archive files into the temporary directory, in two steps\n",
    "    #Warning: the -o flag can’t have spaces between it and the filename, and can only have ONE space before it\n",
    "    outdir = '-o' + str(tempdir) \n",
    "    #Extract the files complete with relative filepaths (more stable than other methods tried)\n",
    "    subprocess.call([\"7z\",\"x\",ann_file,outdir]) #ann_file,outdir\n",
    "    print(\"7z x \",ann_file,outdir)\n",
    "    "
   ]
  },
  {
   "cell_type": "markdown",
   "id": "operating-island",
   "metadata": {},
   "source": [
    "### Copy existing annotation files to the annotationpath directory\n",
    "Slighly complicated because of paths relative to different root directories."
   ]
  },
  {
   "cell_type": "code",
   "execution_count": 13,
   "id": "working-compatibility",
   "metadata": {},
   "outputs": [],
   "source": [
    "#Copy existing annotations from the temp directory, tempdir = Path('/cdata/tanzania/temp/temp')) \n",
    "#to the annotations directory (annotationpath).  Annotations are unpacked from zipfiles with file structure like this:\n",
    "#tempdir/Annotations/TA25/_data/TWR/etc../somefile.xml.\n",
    "def copy_existing_annotations(tempdir,annotationpath,remove_list):\n",
    "    fullpaths = list(tempdir.rglob(\"*.xml\"))\n",
    "    written = 0\n",
    "    for fp in fullpaths:\n",
    "        fullpath = str(fp)\n",
    "        relpath = Path(fp).relative_to(tempdir) #output is full path but maybe with undesirable root\n",
    "        cleanpath = clean_filepath(relpath,remove_list) #remove unwanted root\n",
    "        to_path = str(Path(annotationpath)/cleanpath)\n",
    "        #Fix xml elements <filename>, <path>, and <folder> (get correct values from cleanpath).  Overwrites fp in place.\n",
    "        fix_annotation_paths(fullpath,cleanpath) \n",
    "        shutil.copy(fullpath, to_path)\n",
    "        written += 1\n",
    "    print('Copied ',written,' files from temp to annotationpath')\n"
   ]
  },
  {
   "cell_type": "code",
   "execution_count": 14,
   "id": "fifty-variable",
   "metadata": {},
   "outputs": [],
   "source": [
    "def fix_annotation_paths(file_to_fix,desired_path):\n",
    "    \"\"\"Fixes filename, path, folder in the 'file_to_fix' XML file and overwrites it. Adds <path> element if missing.\n",
    "    From 'desired_path', extracts the filename (including extension) and the terminal folder.    \n",
    "    \"\"\"    \n",
    "    #breakpoint()\n",
    "    filepath = str(Path(desired_path).with_suffix('.jpg'))\n",
    "    filename = str(Path(filepath).name)\n",
    "    folder = str(Path(filepath).parent)\n",
    "    parser = et.XMLParser(remove_blank_text=True) #required to get nice output with prettyprint\n",
    "    tree = et.parse(file_to_fix,parser)\n",
    "    root = tree.getroot()\n",
    "    root.find('filename').text = filename\n",
    "    root.find('folder').text = folder\n",
    "    if(root.find('path') is not None):\n",
    "        root.find('path').text = filepath\n",
    "    else:\n",
    "        path = et.Element('path') #create a new path element\n",
    "        path.text = filepath \n",
    "        root.insert(1,path)\n",
    "    tree.write(file_to_fix, pretty_print=True) "
   ]
  },
  {
   "cell_type": "code",
   "execution_count": 77,
   "id": "declared-witch",
   "metadata": {},
   "outputs": [],
   "source": [
    "#test\n",
    "fix_annotation_paths('/cdata/tanzania/test2/junk/RR17-TWR-R-2014-11-13_AM_0005.xml','RR17/RR17-SGR-TWR_201/RR17-TWR-R-2014-11-13_AM_0005.xml')\n"
   ]
  },
  {
   "cell_type": "markdown",
   "id": "amazing-fault",
   "metadata": {},
   "source": [
    "## Fill in missing annotation files for 'empty' images\n",
    "For each subdirectory represented in an annotation zipfile:\n",
    "1. Get list of _all_ image filepaths in the associated subdirectory (recursive)\n",
    "2. Get list of filepaths for _annotated_ images (ones that have associated annotation files)\n",
    "3. Compare the lists to identify which images are missing annotation files\n",
    "4. Use pascal_voc_writer to create an xml annotation file with no bounding box for each missing file"
   ]
  },
  {
   "cell_type": "code",
   "execution_count": 15,
   "id": "editorial-superintendent",
   "metadata": {},
   "outputs": [],
   "source": [
    "#1. Get list of all files processed from /ImageSets/Main/default.txt\n",
    "#These are full filepaths with unwanted root parts removed (as defined by remove_list)\n",
    "def get_image_filepaths(tempdir,remove_list):\n",
    "    file = open(Path(tempdir)/\"ImageSets/Main/default.txt\")\n",
    "    lines = [line.strip() for line in file]\n",
    "    file.close()\n",
    "    flist = [clean_filepath(l,remove_list) for l in lines]\n",
    "    return flist"
   ]
  },
  {
   "cell_type": "code",
   "execution_count": 16,
   "id": "ranking-reply",
   "metadata": {},
   "outputs": [],
   "source": [
    "#2. Get list of filenames for images that have associated annotation files\n",
    "#We read this by searching the tempdir structure; then clean up a bit to match image names\n",
    "def get_annotated_images(tempdir,remove_list):\n",
    "    fullpaths = list(tempdir.rglob(\"*.xml\"))\n",
    "    relpaths = [str(Path(fp).relative_to(tempdir)) for fp in fullpaths]\n",
    "    nosuffix = [str(Path(f).with_suffix('')) for f in relpaths] #Get rid of suffix\n",
    "    ann_imgs = [clean_filepath(fp,remove_list) for fp in nosuffix] #Drop root directories (Annotations/CVAT)\n",
    "    return ann_imgs"
   ]
  },
  {
   "cell_type": "code",
   "execution_count": 17,
   "id": "sunset-dragon",
   "metadata": {},
   "outputs": [],
   "source": [
    "#3. Calculate the missing annotations by subtracting annotations from total files\n",
    "#We're using full filepaths but dropping the file extensions\n",
    "def calculate_missing_annotations(images,annotated_images):\n",
    "    missing_ann = list(set(images) - set(annotated_images))\n",
    "    assert (len(missing_ann)==(len(images) - len(annotated_images))), 'images - annotated_images != missing_ann.  Do filepaths match?'\n",
    "    return(missing_ann)"
   ]
  },
  {
   "cell_type": "code",
   "execution_count": 18,
   "id": "neutral-inflation",
   "metadata": {},
   "outputs": [],
   "source": [
    "#4. Use pascal_voc_writer to create a new empty annotation file for each image in a list.\n",
    "# missing_ann is expected to be a list of full filepaths without extensions.  We also assume that\n",
    "# unwanted root directories have been removed.\n",
    "def write_empty_annotations(imagepath,missing_ann,an_dest):  \n",
    "    nc = 0\n",
    "    badlist = []\n",
    "    if(len(missing_ann) > 0):\n",
    "        for filestem in missing_ann:\n",
    "            image = (Path(imagepath)/filestem).with_suffix('.jpg')\n",
    "            relpath = Path(filestem).with_suffix('.jpg')\n",
    "            filename = str(image.name)\n",
    "            folder = str(image.parent)            \n",
    "            try:\n",
    "                im = Image.open(image)\n",
    "            except FileNotFoundError:\n",
    "                #print('Could not create xml file: image not found: ',image)\n",
    "                bad_xml_file = (Path(an_dest)/filestem).with_suffix('.xml')\n",
    "                badlist.append(str(bad_xml_file))\n",
    "                next\n",
    "            else:\n",
    "                width, height = im.size\n",
    "                writer = Writer(filename, width, height) # Writer(path, width, height)\n",
    "                writer.changePath(relpath)\n",
    "                writer.changeFolder(folder)\n",
    "                outfile = str((Path(an_dest)/filestem).with_suffix('.xml'))\n",
    "                writer.save(outfile)\n",
    "                nc +=1\n",
    "    print(\"   Created \" + str(nc) + \" new annotation files; \")\n",
    "    if (len(badlist) > 0):\n",
    "        print(\"Warning: No annotation file written for \",len(badlist),\" xml files with no match to images.\")\n",
    "    return(badlist)"
   ]
  },
  {
   "cell_type": "code",
   "execution_count": 19,
   "id": "enormous-graduate",
   "metadata": {},
   "outputs": [],
   "source": [
    "#Calculate which images are missing annotations in a directory, and write 'empty' annotations for them.\n",
    "def add_missing_annotations(tempdir,imagedir,ann_dest,remove_list):\n",
    "    \"\"\"\n",
    "    Calculates which images in a directory are missing annotation and writes 'empty' annotation files for them.\n",
    "    Parameters:\n",
    "     \"\"\"\n",
    "    print('Annotation directory: ',ann_dest)\n",
    "    imgs = get_image_filepaths(tempdir,remove_list)\n",
    "    print('   Total images: ', len(imgs))\n",
    "    annotated_images = get_annotated_images(tempdir,remove_list)\n",
    "    print('   Annotated images: ',len(annotated_images))\n",
    "    missing_ann = calculate_missing_annotations(imgs,annotated_images)\n",
    "    print('   Missing annotations: ',len(missing_ann))\n",
    "    badlist = write_empty_annotations(imagedir,missing_ann,ann_dest)\n",
    "    return(badlist)"
   ]
  },
  {
   "cell_type": "markdown",
   "id": "subtle-fighter",
   "metadata": {},
   "source": [
    "## Process annotations"
   ]
  },
  {
   "cell_type": "code",
   "execution_count": 20,
   "id": "abstract-termination",
   "metadata": {},
   "outputs": [],
   "source": [
    "#Wrap it all into one function\n",
    "def process_annotations(annotation_files,tempdir,imagedir,ann_dest,remove_list):\n",
    "    #Create subfolders of the /cdata/tanzania/temp/annotations directory to put annotations in\n",
    "    #The list is created directly from the annotation files.  Will not overwrite existing directories/files).\n",
    "    subdirs = get_subdirs(annotation_files,remove_list)\n",
    "    for sub in subdirs:\n",
    "        p = annotationpath/sub\n",
    "        p.mkdir(parents=True, exist_ok=True)\n",
    "    subdirs\n",
    "\n",
    "    #Add missing annotations.  No annotation will be created if the associated image file is missing\n",
    "    badlist = [] #List of filenames for annotation files where no associated image can be found\n",
    "    for ann_file in annotation_files:\n",
    "        unzip_ann_file(ann_file,tempdir)\n",
    "        copy_existing_annotations(tempdir,annotationpath,remove_list)\n",
    "        blist = add_missing_annotations(tempdir,imagedir,ann_dest,remove_list)\n",
    "        badlist = badlist + blist\n",
    "    return badlist"
   ]
  },
  {
   "cell_type": "code",
   "execution_count": 27,
   "id": "japanese-transmission",
   "metadata": {},
   "outputs": [
    {
     "name": "stdout",
     "output_type": "stream",
     "text": [
      "Clearing directory  /cdata/tanzania/temp/temp\n",
      "7z x  /cdata/tanzania/annotated_images/AIAIA/pvoc/TA25-RKE-20191128A-pvoc.zip -o/cdata/tanzania/temp/temp\n",
      "Copied  93  files from temp to annotationpath\n",
      "Annotation directory:  /cdata/tanzania/temp/annotations\n",
      "   Total images:  141\n",
      "   Annotated images:  93\n",
      "   Missing annotations:  48\n",
      "   Created 48 new annotation files; \n",
      "Clearing directory  /cdata/tanzania/temp/temp\n",
      "7z x  /cdata/tanzania/annotated_images/AIAIA/pvoc/TA25-RKE-20191201-pvoc.zip -o/cdata/tanzania/temp/temp\n",
      "Copied  85  files from temp to annotationpath\n",
      "Annotation directory:  /cdata/tanzania/temp/annotations\n",
      "   Total images:  132\n",
      "   Annotated images:  85\n",
      "   Missing annotations:  47\n",
      "   Created 47 new annotation files; \n",
      "Clearing directory  /cdata/tanzania/temp/temp\n",
      "7z x  /cdata/tanzania/annotated_images/AIAIA/pvoc/SL25-CFA-TNP_2013105-12-pvoc.zip -o/cdata/tanzania/temp/temp\n",
      "Copied  384  files from temp to annotationpath\n",
      "Annotation directory:  /cdata/tanzania/temp/annotations\n",
      "   Total images:  968\n",
      "   Annotated images:  384\n",
      "   Missing annotations:  584\n",
      "   Created 584 new annotation files; \n",
      "Clearing directory  /cdata/tanzania/temp/temp\n",
      "7z x  /cdata/tanzania/annotated_images/AIAIA/pvoc/SL25-ZGF_2013105-12-pvoc.zip -o/cdata/tanzania/temp/temp\n",
      "Copied  377  files from temp to annotationpath\n",
      "Annotation directory:  /cdata/tanzania/temp/annotations\n",
      "   Total images:  1234\n",
      "   Annotated images:  377\n",
      "   Missing annotations:  857\n",
      "   Created 857 new annotation files; \n",
      "Clearing directory  /cdata/tanzania/temp/temp\n",
      "7z x  /cdata/tanzania/annotated_images/AIAIA/pvoc/RR19-5EL-20180930A-1008A-pvoc.zip -o/cdata/tanzania/temp/temp\n",
      "Copied  152  files from temp to annotationpath\n",
      "Annotation directory:  /cdata/tanzania/temp/annotations\n",
      "   Total images:  697\n",
      "   Annotated images:  152\n",
      "   Missing annotations:  545\n",
      "   Created 494 new annotation files; \n",
      "Warning: No annotation file written for  51  xml files with no match to images.\n",
      "Clearing directory  /cdata/tanzania/temp/temp\n",
      "7z x  /cdata/tanzania/annotated_images/AIAIA/pvoc/RR17-SGR-TWR_20141111-14-pvoc.zip -o/cdata/tanzania/temp/temp\n",
      "Copied  207  files from temp to annotationpath\n",
      "Annotation directory:  /cdata/tanzania/temp/annotations\n",
      "   Total images:  321\n",
      "   Annotated images:  207\n",
      "   Missing annotations:  114\n",
      "   Created 114 new annotation files; \n",
      "Clearing directory  /cdata/tanzania/temp/temp\n",
      "7z x  /cdata/tanzania/annotated_images/AIAIA/pvoc/RR19-5EL-20180920A-28A-pvoc.zip -o/cdata/tanzania/temp/temp\n",
      "Copied  609  files from temp to annotationpath\n",
      "Annotation directory:  /cdata/tanzania/temp/annotations\n",
      "   Total images:  1015\n",
      "   Annotated images:  609\n",
      "   Missing annotations:  406\n",
      "   Created 366 new annotation files; \n",
      "Warning: No annotation file written for  40  xml files with no match to images.\n",
      "Clearing directory  /cdata/tanzania/temp/temp\n",
      "7z x  /cdata/tanzania/annotated_images/AIAIA/pvoc/TA25-TWR-1201-3-pvoc.zip -o/cdata/tanzania/temp/temp\n",
      "Copied  432  files from temp to annotationpath\n",
      "Annotation directory:  /cdata/tanzania/temp/annotations\n",
      "   Total images:  603\n",
      "   Annotated images:  432\n",
      "   Missing annotations:  171\n",
      "   Created 171 new annotation files; \n",
      "Clearing directory  /cdata/tanzania/temp/temp\n",
      "7z x  /cdata/tanzania/annotated_images/AIAIA/pvoc/TA25-RKE-20191202-3-pvoc.zip -o/cdata/tanzania/temp/temp\n",
      "Copied  91  files from temp to annotationpath\n",
      "Annotation directory:  /cdata/tanzania/temp/annotations\n",
      "   Total images:  144\n",
      "   Annotated images:  91\n",
      "   Missing annotations:  53\n",
      "   Created 53 new annotation files; \n",
      "Clearing directory  /cdata/tanzania/temp/temp\n",
      "7z x  /cdata/tanzania/annotated_images/AIAIA/pvoc/RR17-CFA-ZGF_20141104-08-pvoc.zip -o/cdata/tanzania/temp/temp\n",
      "Copied  320  files from temp to annotationpath\n",
      "Annotation directory:  /cdata/tanzania/temp/annotations\n",
      "   Total images:  484\n",
      "   Annotated images:  320\n",
      "   Missing annotations:  164\n",
      "   Created 164 new annotation files; \n",
      "Clearing directory  /cdata/tanzania/temp/temp\n",
      "7z x  /cdata/tanzania/annotated_images/AIAIA/pvoc/RR19-CFA-20180921A-1009A-pvoc.zip -o/cdata/tanzania/temp/temp\n",
      "Copied  272  files from temp to annotationpath\n",
      "Annotation directory:  /cdata/tanzania/temp/annotations\n",
      "   Total images:  833\n",
      "   Annotated images:  272\n",
      "   Missing annotations:  561\n",
      "   Created 512 new annotation files; \n",
      "Warning: No annotation file written for  49  xml files with no match to images.\n"
     ]
    }
   ],
   "source": [
    "#CALL: process_annotations()\n",
    "tempdir = Path('/cdata/tanzania/temp/temp')\n",
    "rlist = ['Annotations','CVAT']\n",
    "badlist = process_annotations(annotation_files,tempdir,imagepath,annotationpath,rlist)"
   ]
  },
  {
   "cell_type": "code",
   "execution_count": null,
   "id": "affecting-elder",
   "metadata": {},
   "outputs": [],
   "source": [
    "# Exception: Each image in `/cdata/tanzania/annotated_images/RR19/RR19-5EL-20180920A-28A` must have its \n",
    "# corresponding XML file in `/cdata/tanzania/temp/annotations/RR19/RR19-5EL-20180920A-28A` with the same file name."
   ]
  },
  {
   "cell_type": "markdown",
   "id": "approximate-national",
   "metadata": {},
   "source": [
    "## Manually delete some problematic nonmatching files"
   ]
  },
  {
   "cell_type": "code",
   "execution_count": 22,
   "id": "cheap-inspiration",
   "metadata": {},
   "outputs": [],
   "source": [
    "def find_nonmatching_files(imagepath,annotationpath,folder):\n",
    "    #Get image files\n",
    "    impth = imagepath/folder\n",
    "    imlist = list(impth.glob('*.jpg'))\n",
    "    imfiles = [str(Path(im).relative_to(imagepath).with_suffix('')) for im in imlist]\n",
    "    #Get annotation files that should match\n",
    "    anpth = Path(annotationpath)/folder\n",
    "    anlist = list(anpth.glob('*.xml'))\n",
    "    anfiles = [str(Path(af).relative_to(annotationpath).with_suffix('')) for af in anlist]\n",
    "    image_hasno_xml = [f for f in imfiles if f not in anfiles]\n",
    "    xml_hasno_image = [f for f in anfiles if f not in imfiles]\n",
    "    return (image_hasno_xml,xml_hasno_image)\n",
    "    "
   ]
  },
  {
   "cell_type": "code",
   "execution_count": 28,
   "id": "vocal-setting",
   "metadata": {},
   "outputs": [
    {
     "data": {
      "text/plain": [
       "140"
      ]
     },
     "execution_count": 28,
     "metadata": {},
     "output_type": "execute_result"
    }
   ],
   "source": [
    "len(badlist)"
   ]
  },
  {
   "cell_type": "code",
   "execution_count": 44,
   "id": "mature-equipment",
   "metadata": {},
   "outputs": [
    {
     "name": "stdout",
     "output_type": "stream",
     "text": [
      "0 [] 27 ['RR19/RR19-CFA-20180921A-1009A/RR19_CFA_20180927A_RSOL_2688', 'RR19/RR19-CFA-20180921A-1009A/RR19_CFA_20181008A_RSOR_0014', 'RR19/RR19-CFA-20180921A-1009A/RR19_CFA_20180924A_RSOL_2540', 'RR19/RR19-CFA-20180921A-1009A/RR19_CFA_20180922A_RSOL_2442', 'RR19/RR19-CFA-20180921A-1009A/RR19_CFA_20181007A_RSOL_2919', 'RR19/RR19-CFA-20180921A-1009A/RR19_CFA_20180925A_RSOR_0047', 'RR19/RR19-CFA-20180921A-1009A/RR19_CFA_20180925A_RSOR_0037', 'RR19/RR19-CFA-20180921A-1009A/RR19_CFA_20181003A_RSOR_0020', 'RR19/RR19-CFA-20180921A-1009A/RR19_CFA_20180927A_RSOL_2684', 'RR19/RR19-CFA-20180921A-1009A/RR19_CFA_20180921A_RSO-R_0008', 'RR19/RR19-CFA-20180921A-1009A/RR19_CFA_20180928A_RSOR_0014', 'RR19/RR19-CFA-20180921A-1009A/RR19_CFA_20181005A_RSOR_0004', 'RR19/RR19-CFA-20180921A-1009A/RR19_CFA_20181005A_RSOL_2879', 'RR19/RR19-CFA-20180921A-1009A/RR19_CFA_20181009A_RSOR_0007', 'RR19/RR19-CFA-20180921A-1009A/RR19_CFA_20181003A_RSOL_2848', 'RR19/RR19-CFA-20180921A-1009A/RR19_CFA_20180922A_RSOL_2422', 'RR19/RR19-CFA-20180921A-1009A/RR19_CFA_20181003A_RSOL_2815', 'RR19/RR19-CFA-20180921A-1009A/RR19_CFA_20181008A_RSOL_2970', 'RR19/RR19-CFA-20180921A-1009A/RR19_CFA_20181008A_RSOL_2926', 'RR19/RR19-CFA-20180921A-1009A/RR19_CFA_20181003A_RSOL_2808', 'RR19/RR19-CFA-20180921A-1009A/RR19_CFA_20180922A_RSOL_2428', 'RR19/RR19-CFA-20180921A-1009A/RR19_CFA_20180922A_RSOR_0009', 'RR19/RR19-CFA-20180921A-1009A/RR19_CFA_20180924A_RSOL_2548', 'RR19/RR19-CFA-20180921A-1009A/RR19_CFA_20181008A_RSOL_2939', 'RR19/RR19-CFA-20180921A-1009A/RR19_CFA_20180929A_RSOR_0004', 'RR19/RR19-CFA-20180921A-1009A/RR19_CFA_20180921A_RSO-R_0003', 'RR19/RR19-CFA-20180921A-1009A/RR19_CFA_20180928A_RSOL_2717']\n",
      "0 [] 0 []\n",
      "0 [] 0 []\n"
     ]
    }
   ],
   "source": [
    "#Call it\n",
    "\n",
    "bad_folders =   ['RR19/RR19-CFA-20180921A-1009A',\n",
    "                 'RR19/RR19-5EL-20180920A-28A', \n",
    "                 'RR19/RR19-5EL-20180930A-1008A']\n",
    "\n",
    "for folder in bad_folders:\n",
    "    (image_hasno_xml,xml_hasno_image) = find_nonmatching_files(imagepath,annotationpath,folder)\n",
    "    print(len(image_hasno_xml),image_hasno_xml,len(xml_hasno_image),xml_hasno_image)"
   ]
  },
  {
   "cell_type": "code",
   "execution_count": 45,
   "id": "little-aircraft",
   "metadata": {},
   "outputs": [
    {
     "name": "stdout",
     "output_type": "stream",
     "text": [
      "Deleted  /cdata/tanzania/temp/annotations/RR19/RR19-CFA-20180921A-1009A/RR19_CFA_20180927A_RSOL_2688.xml\n",
      "Deleted  /cdata/tanzania/temp/annotations/RR19/RR19-CFA-20180921A-1009A/RR19_CFA_20181008A_RSOR_0014.xml\n",
      "Deleted  /cdata/tanzania/temp/annotations/RR19/RR19-CFA-20180921A-1009A/RR19_CFA_20180924A_RSOL_2540.xml\n",
      "Deleted  /cdata/tanzania/temp/annotations/RR19/RR19-CFA-20180921A-1009A/RR19_CFA_20180922A_RSOL_2442.xml\n",
      "Deleted  /cdata/tanzania/temp/annotations/RR19/RR19-CFA-20180921A-1009A/RR19_CFA_20181007A_RSOL_2919.xml\n",
      "Deleted  /cdata/tanzania/temp/annotations/RR19/RR19-CFA-20180921A-1009A/RR19_CFA_20180925A_RSOR_0047.xml\n",
      "Deleted  /cdata/tanzania/temp/annotations/RR19/RR19-CFA-20180921A-1009A/RR19_CFA_20180925A_RSOR_0037.xml\n",
      "Deleted  /cdata/tanzania/temp/annotations/RR19/RR19-CFA-20180921A-1009A/RR19_CFA_20181003A_RSOR_0020.xml\n",
      "Deleted  /cdata/tanzania/temp/annotations/RR19/RR19-CFA-20180921A-1009A/RR19_CFA_20180927A_RSOL_2684.xml\n",
      "Deleted  /cdata/tanzania/temp/annotations/RR19/RR19-CFA-20180921A-1009A/RR19_CFA_20180921A_RSO-R_0008.xml\n",
      "Deleted  /cdata/tanzania/temp/annotations/RR19/RR19-CFA-20180921A-1009A/RR19_CFA_20180928A_RSOR_0014.xml\n",
      "Deleted  /cdata/tanzania/temp/annotations/RR19/RR19-CFA-20180921A-1009A/RR19_CFA_20181005A_RSOR_0004.xml\n",
      "Deleted  /cdata/tanzania/temp/annotations/RR19/RR19-CFA-20180921A-1009A/RR19_CFA_20181005A_RSOL_2879.xml\n",
      "Deleted  /cdata/tanzania/temp/annotations/RR19/RR19-CFA-20180921A-1009A/RR19_CFA_20181009A_RSOR_0007.xml\n",
      "Deleted  /cdata/tanzania/temp/annotations/RR19/RR19-CFA-20180921A-1009A/RR19_CFA_20181003A_RSOL_2848.xml\n",
      "Deleted  /cdata/tanzania/temp/annotations/RR19/RR19-CFA-20180921A-1009A/RR19_CFA_20180922A_RSOL_2422.xml\n",
      "Deleted  /cdata/tanzania/temp/annotations/RR19/RR19-CFA-20180921A-1009A/RR19_CFA_20181003A_RSOL_2815.xml\n",
      "Deleted  /cdata/tanzania/temp/annotations/RR19/RR19-CFA-20180921A-1009A/RR19_CFA_20181008A_RSOL_2970.xml\n",
      "Deleted  /cdata/tanzania/temp/annotations/RR19/RR19-CFA-20180921A-1009A/RR19_CFA_20181008A_RSOL_2926.xml\n",
      "Deleted  /cdata/tanzania/temp/annotations/RR19/RR19-CFA-20180921A-1009A/RR19_CFA_20181003A_RSOL_2808.xml\n",
      "Deleted  /cdata/tanzania/temp/annotations/RR19/RR19-CFA-20180921A-1009A/RR19_CFA_20180922A_RSOL_2428.xml\n",
      "Deleted  /cdata/tanzania/temp/annotations/RR19/RR19-CFA-20180921A-1009A/RR19_CFA_20180922A_RSOR_0009.xml\n",
      "Deleted  /cdata/tanzania/temp/annotations/RR19/RR19-CFA-20180921A-1009A/RR19_CFA_20180924A_RSOL_2548.xml\n",
      "Deleted  /cdata/tanzania/temp/annotations/RR19/RR19-CFA-20180921A-1009A/RR19_CFA_20181008A_RSOL_2939.xml\n",
      "Deleted  /cdata/tanzania/temp/annotations/RR19/RR19-CFA-20180921A-1009A/RR19_CFA_20180929A_RSOR_0004.xml\n",
      "Deleted  /cdata/tanzania/temp/annotations/RR19/RR19-CFA-20180921A-1009A/RR19_CFA_20180921A_RSO-R_0003.xml\n",
      "Deleted  /cdata/tanzania/temp/annotations/RR19/RR19-CFA-20180921A-1009A/RR19_CFA_20180928A_RSOL_2717.xml\n"
     ]
    }
   ],
   "source": [
    "xml_hasno_image = ['RR19/RR19-CFA-20180921A-1009A/RR19_CFA_20180927A_RSOL_2688', 'RR19/RR19-CFA-20180921A-1009A/RR19_CFA_20181008A_RSOR_0014', 'RR19/RR19-CFA-20180921A-1009A/RR19_CFA_20180924A_RSOL_2540', 'RR19/RR19-CFA-20180921A-1009A/RR19_CFA_20180922A_RSOL_2442', 'RR19/RR19-CFA-20180921A-1009A/RR19_CFA_20181007A_RSOL_2919', 'RR19/RR19-CFA-20180921A-1009A/RR19_CFA_20180925A_RSOR_0047', 'RR19/RR19-CFA-20180921A-1009A/RR19_CFA_20180925A_RSOR_0037', 'RR19/RR19-CFA-20180921A-1009A/RR19_CFA_20181003A_RSOR_0020', 'RR19/RR19-CFA-20180921A-1009A/RR19_CFA_20180927A_RSOL_2684', 'RR19/RR19-CFA-20180921A-1009A/RR19_CFA_20180921A_RSO-R_0008', 'RR19/RR19-CFA-20180921A-1009A/RR19_CFA_20180928A_RSOR_0014', 'RR19/RR19-CFA-20180921A-1009A/RR19_CFA_20181005A_RSOR_0004', 'RR19/RR19-CFA-20180921A-1009A/RR19_CFA_20181005A_RSOL_2879', 'RR19/RR19-CFA-20180921A-1009A/RR19_CFA_20181009A_RSOR_0007', 'RR19/RR19-CFA-20180921A-1009A/RR19_CFA_20181003A_RSOL_2848', 'RR19/RR19-CFA-20180921A-1009A/RR19_CFA_20180922A_RSOL_2422', 'RR19/RR19-CFA-20180921A-1009A/RR19_CFA_20181003A_RSOL_2815', 'RR19/RR19-CFA-20180921A-1009A/RR19_CFA_20181008A_RSOL_2970', 'RR19/RR19-CFA-20180921A-1009A/RR19_CFA_20181008A_RSOL_2926', 'RR19/RR19-CFA-20180921A-1009A/RR19_CFA_20181003A_RSOL_2808', 'RR19/RR19-CFA-20180921A-1009A/RR19_CFA_20180922A_RSOL_2428', 'RR19/RR19-CFA-20180921A-1009A/RR19_CFA_20180922A_RSOR_0009', 'RR19/RR19-CFA-20180921A-1009A/RR19_CFA_20180924A_RSOL_2548', 'RR19/RR19-CFA-20180921A-1009A/RR19_CFA_20181008A_RSOL_2939', 'RR19/RR19-CFA-20180921A-1009A/RR19_CFA_20180929A_RSOR_0004', 'RR19/RR19-CFA-20180921A-1009A/RR19_CFA_20180921A_RSO-R_0003', 'RR19/RR19-CFA-20180921A-1009A/RR19_CFA_20180928A_RSOL_2717']\n",
    "for f in xml_hasno_image:\n",
    "    xmlpath = annotationpath/Path(f).with_suffix('.xml')\n",
    "    xmlpath.unlink()\n",
    "    print('Deleted ',xmlpath)"
   ]
  }
 ],
 "metadata": {
  "kernelspec": {
   "display_name": "Python [conda env:fastai] *",
   "language": "python",
   "name": "conda-env-fastai-py"
  },
  "language_info": {
   "codemirror_mode": {
    "name": "ipython",
    "version": 3
   },
   "file_extension": ".py",
   "mimetype": "text/x-python",
   "name": "python",
   "nbconvert_exporter": "python",
   "pygments_lexer": "ipython3",
   "version": "3.8.8"
  }
 },
 "nbformat": 4,
 "nbformat_minor": 5
}
