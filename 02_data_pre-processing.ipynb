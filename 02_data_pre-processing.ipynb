{
 "cells": [
  {
   "cell_type": "markdown",
   "metadata": {},
   "source": [
    "# Data labeling"
   ]
  },
  {
   "cell_type": "markdown",
   "metadata": {},
   "source": [
    "This notebook documents the process of labeling images for AI training"
   ]
  },
  {
   "cell_type": "markdown",
   "metadata": {},
   "source": [
    "## Labeling process in CVAT "
   ]
  },
  {
   "cell_type": "markdown",
   "metadata": {},
   "source": [
    "Document CVAT steps here"
   ]
  },
  {
   "cell_type": "markdown",
   "metadata": {},
   "source": [
    "## A record of decisions regarding image classes, etc."
   ]
  },
  {
   "cell_type": "markdown",
   "metadata": {},
   "source": [
    "**Input labels**  \n",
    "The training set that we have used so far includes the following labels (with associated tile counts):\n",
    "<pre>\n",
    "[('empty_image', 10042),\n",
    " ('hartebeest', 379),\n",
    " ('Antelope', 1240),\n",
    " ('buffalo', 8699),\n",
    " ('elephant', 4354),\n",
    " ('cow', 20895),\n",
    " ('zebra', 4083),\n",
    " ('human', 3425),\n",
    " ('building', 6419),\n",
    " ('wildebeest', 1244),\n",
    " ('Ostrich', 182),\n",
    " ('boma', 1546),\n",
    " ('giraffe', 432),\n",
    " ('impala', 2189),\n",
    " ('shoats', 10530),\n",
    " ('roan', 142),\n",
    " ('eland', 629),\n",
    " ('kudu', 152),\n",
    " ('gazelle', 362),\n",
    " ('warthog', 71),\n",
    " ('hippopotamus', 380),\n",
    " ('donkey', 325),\n",
    " ('topi', 67),\n",
    " ('waterbuck', 41),\n",
    " ('charcoal sack', 141),\n",
    " ('Lion', 8),\n",
    " ('sable', 10),\n",
    " ('oryx', 41),\n",
    " ('charcoal mound', 22),\n",
    " ('Crane', 15),\n",
    " ('Stork', 4)]\n",
    "</pre>\n",
    "\n",
    "**Permitted labels**  \n",
    "The image classes currently used to train both models are:\n",
    "['buffalo',\n",
    " 'building',\n",
    " 'charcoal_mound',\n",
    " 'charcoal_sack',\n",
    " 'cow',\n",
    " 'donkey',\n",
    " 'eland',\n",
    " 'elephant',\n",
    " 'gazelle',\n",
    " 'giraffe',\n",
    " 'hartebeest',\n",
    " 'human',\n",
    " 'impala',\n",
    " 'kudu',\n",
    " 'oryx',\n",
    " 'other_animal',\n",
    " 'shoats',\n",
    " 'warthog',\n",
    " 'wildebeest',\n",
    " 'zebra']  \n",
    " \n",
    "**Dropped labels**  \n",
    "We started with one additional class, 'boma', that we dropped because we didn't have a large enough training set for that category and it generated the majority of the false-positives.  \n",
    "\n",
    "**Non-permitted labels**  \n",
    "All non-permitted labels are changed to 'other_animal' during the data loading process.  "
   ]
  },
  {
   "cell_type": "markdown",
   "metadata": {},
   "source": [
    "## Image types and naming conventions"
   ]
  },
  {
   "cell_type": "markdown",
   "metadata": {},
   "source": [
    "The flight session format is as follows, e.g. for TA25-RKE-20191201A:\n",
    "* TA25 = survey code (4 chars, holdover from DOS days when there were 4-char survey codes and 4-char data table codes)\n",
    "* RKE = aircraft callsign (unique per survey);\n",
    "* 20191201 = YYYYMMDD\n",
    "* A = first session flown of that day. Sometimes there’s a B, and it’s possible there could be higher letters but that’s never happened yet."
   ]
  },
  {
   "cell_type": "markdown",
   "metadata": {},
   "source": [
    "## Creation of UUIDs and database for image security"
   ]
  },
  {
   "cell_type": "markdown",
   "metadata": {},
   "source": [
    "Coming"
   ]
  },
  {
   "cell_type": "markdown",
   "metadata": {},
   "source": [
    "## Pre-processing of images to convert .NEF to .jpg and adjust contrast, resolution, size"
   ]
  },
  {
   "cell_type": "markdown",
   "metadata": {},
   "source": [
    "Coming"
   ]
  }
 ],
 "metadata": {
  "kernelspec": {
   "display_name": "Python [conda env:fastai] *",
   "language": "python",
   "name": "conda-env-fastai-py"
  },
  "language_info": {
   "codemirror_mode": {
    "name": "ipython",
    "version": 3
   },
   "file_extension": ".py",
   "mimetype": "text/x-python",
   "name": "python",
   "nbconvert_exporter": "python",
   "pygments_lexer": "ipython3",
   "version": "3.8.8"
  }
 },
 "nbformat": 4,
 "nbformat_minor": 4
}
