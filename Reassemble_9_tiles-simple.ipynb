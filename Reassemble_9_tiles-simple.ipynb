{
 "cells": [
  {
   "cell_type": "markdown",
   "metadata": {},
   "source": [
    "## Overview\n",
    "This notebook is for reassembling XML annotations that were done on images that had been split into 9 tiles.  The boxes are compiled into one annotation file but no attempt is made to weed out possible duplicates where parts of a single animal might be seen at the edge of two files. \n",
    "\n",
    "I gave up on reassembling the images themselves because the 9 tiles are not the same size, which makes reassembly difficult.  "
   ]
  },
  {
   "cell_type": "code",
   "execution_count": 1,
   "metadata": {},
   "outputs": [
    {
     "name": "stdout",
     "output_type": "stream",
     "text": [
      "spearhead4\n"
     ]
    }
   ],
   "source": [
    "!hostname"
   ]
  },
  {
   "cell_type": "markdown",
   "metadata": {},
   "source": [
    "## Imports"
   ]
  },
  {
   "cell_type": "code",
   "execution_count": 2,
   "metadata": {},
   "outputs": [
    {
     "name": "stdout",
     "output_type": "stream",
     "text": [
      "['/home/egdod/tanzania_dev/VM', '/home/egdod/tanzania_dev', '/anaconda/envs/trident/lib/python38.zip', '/anaconda/envs/trident/lib/python3.8', '/anaconda/envs/trident/lib/python3.8/lib-dynload', '', '/anaconda/envs/trident/lib/python3.8/site-packages', '/anaconda/envs/trident/lib/python3.8/site-packages/IPython/extensions', '/home/egdod/.ipython']\n"
     ]
    }
   ],
   "source": [
    "#Don't re-run (adds a directory each time)\n",
    "#Insert at position 1, because 0 is the scriptath (or '' in REPL)\n",
    "import sys\n",
    "from pathlib import Path\n",
    "sys.path.insert(1,str(Path.cwd().parent))\n",
    "print(sys.path)"
   ]
  },
  {
   "cell_type": "code",
   "execution_count": 120,
   "metadata": {},
   "outputs": [],
   "source": [
    "from pathlib import Path\n",
    "from lxml import etree as et\n",
    "from PIL import Image\n",
    "from torchvision.transforms.functional import pad as tvpad\n",
    "import torch\n",
    "import random\n",
    "import numpy as np\n",
    "import re #regex\n",
    "import subprocess\n",
    "import pandas as pd\n",
    "import zipfile\n",
    "import shutil\n",
    "import os\n",
    "#import pyvips\n",
    "import copy\n",
    "from tqdm import tqdm"
   ]
  },
  {
   "cell_type": "code",
   "execution_count": 4,
   "metadata": {},
   "outputs": [],
   "source": [
    "from trident_project.dev_packages.pascal_voc_writer.pascal_voc_writer import Writer"
   ]
  },
  {
   "cell_type": "markdown",
   "metadata": {},
   "source": [
    "## Set paths"
   ]
  },
  {
   "cell_type": "code",
   "execution_count": 6,
   "metadata": {},
   "outputs": [],
   "source": [
    "#Set main paths\n",
    "annotation_source_path = Path('/cdata/tanzania/annotated_images/AIAIA/pvoc') #Where original zipped annotation files are"
   ]
  },
  {
   "cell_type": "markdown",
   "metadata": {},
   "source": [
    "## Unzip MXJ annotation files and dump to flat directory"
   ]
  },
  {
   "cell_type": "markdown",
   "metadata": {},
   "source": [
    "\n",
    "\n",
    "### Rename '.zip.zip' to '.zip'"
   ]
  },
  {
   "cell_type": "code",
   "execution_count": null,
   "metadata": {},
   "outputs": [],
   "source": [
    "annotation_files = [str(x) for x in annotation_source_path.iterdir() if x.suffix == '.zip'] #convert strings to Paths and get parent folder\n",
    "\n",
    "for f in annotation_files:\n",
    "    if f.endswith('.zip.zip'):\n",
    "        new_name = str(Path(f).with_suffix('').with_suffix('.zip'))\n",
    "        f = Path(f)\n",
    "        f.rename(new_name)"
   ]
  },
  {
   "cell_type": "code",
   "execution_count": 7,
   "metadata": {},
   "outputs": [
    {
     "data": {
      "text/plain": [
       "['/cdata/tanzania/annotated_images/AIAIA/pvoc/mxj2019CB_b-2020_08_26_08_49_31-pvoc.zip',\n",
       " '/cdata/tanzania/annotated_images/AIAIA/pvoc/mxj2019FB_b-2020_08_26_08_49_31-pvoc.zip',\n",
       " '/cdata/tanzania/annotated_images/AIAIA/pvoc/mxj2019Ia-2020_08_26_08_49_31-pvoc.zip',\n",
       " '/cdata/tanzania/annotated_images/AIAIA/pvoc/mxj2019Ga-2020_08_26_08_49_31-pvoc.zip',\n",
       " '/cdata/tanzania/annotated_images/AIAIA/pvoc/mxj2019Ja-2020_08_26_08_49_31-pvoc.zip',\n",
       " '/cdata/tanzania/annotated_images/AIAIA/pvoc/mxj2019DA_a-2020_08_26_08_49_31-pvoc.zip',\n",
       " '/cdata/tanzania/annotated_images/AIAIA/pvoc/mxj2019CA_a-2020_08_26_08_49_31-pvoc.zip',\n",
       " '/cdata/tanzania/annotated_images/AIAIA/pvoc/mxj2019Aa-2020_08_26_08_49_31-pvoc.zip',\n",
       " '/cdata/tanzania/annotated_images/AIAIA/pvoc/mxj2019EA_a-2020_08_26_08_49_31-pvoc.zip',\n",
       " '/cdata/tanzania/annotated_images/AIAIA/pvoc/mxj2019LA-2020_08_26_08_49_31-pvoc.zip',\n",
       " '/cdata/tanzania/annotated_images/AIAIA/pvoc/mxj2019Ha-2020_08_26_08_49_31-pvoc.zip',\n",
       " '/cdata/tanzania/annotated_images/AIAIA/pvoc/mxj2019Bb-2020_08_26_08_49_31-pvoc.zip',\n",
       " '/cdata/tanzania/annotated_images/AIAIA/pvoc/mxj2019EB_b-2020_08_26_08_49_31-pvoc.zip',\n",
       " '/cdata/tanzania/annotated_images/AIAIA/pvoc/mxj2019FA_a-2020_08_26_08_49_31-pvoc.zip',\n",
       " '/cdata/tanzania/annotated_images/AIAIA/pvoc/mxj2019DB_b-2020_08_26_08_49_31-pvoc.zip']"
      ]
     },
     "execution_count": 7,
     "metadata": {},
     "output_type": "execute_result"
    }
   ],
   "source": [
    "#Get Pascal-VOC zipped annotation files from annotation_source_path\n",
    "#Note: the list has to be remade after renaming .zip.zip files, and here we just take tiled annotations (MXJ)\n",
    "annotation_files = [str(x) for x in annotation_source_path.iterdir() if x.suffix == '.zip' and 'mxj2019' in str(x)] #convert strings to Paths and get parent folder\n",
    "annotation_files"
   ]
  },
  {
   "cell_type": "code",
   "execution_count": 10,
   "metadata": {},
   "outputs": [],
   "source": [
    "#MODIFIED from original: Unzips a single annotation zipfile into a temporary directory.  IGNORES relative filepaths.\n",
    "#Takes only .xml files.  Does not clean the output directory first (allows accumulation from multiple calls).\n",
    "def unzip_ann_file(ann_file,tempdir):\n",
    "    #Unzip the archive files into the temporary directory, in two steps\n",
    "    #Warning: the -o flag can’t have spaces between it and the filename, and can only have ONE space before it\n",
    "    outdir = '-o' + str(tempdir) \n",
    "    #Extract the files complete with relative filepaths (more stable than other methods tried)\n",
    "    subprocess.call([\"7z\",\"e\",ann_file,outdir,\"*/*.xml\",\"-r\"]) #ann_file,outdir\n",
    "    print(\"7z e \",ann_file,outdir,\"*/*.xml\",\"-r\")"
   ]
  },
  {
   "cell_type": "code",
   "execution_count": 11,
   "metadata": {},
   "outputs": [
    {
     "name": "stdout",
     "output_type": "stream",
     "text": [
      "7z e  /cdata/tanzania/annotated_images/AIAIA/pvoc/mxj2019CB_b-2020_08_26_08_49_31-pvoc.zip -o/cdata/tanzania/temp/annotations/MXJ-2019 */*.xml -r\n",
      "7z e  /cdata/tanzania/annotated_images/AIAIA/pvoc/mxj2019FB_b-2020_08_26_08_49_31-pvoc.zip -o/cdata/tanzania/temp/annotations/MXJ-2019 */*.xml -r\n",
      "7z e  /cdata/tanzania/annotated_images/AIAIA/pvoc/mxj2019Ia-2020_08_26_08_49_31-pvoc.zip -o/cdata/tanzania/temp/annotations/MXJ-2019 */*.xml -r\n",
      "7z e  /cdata/tanzania/annotated_images/AIAIA/pvoc/mxj2019Ga-2020_08_26_08_49_31-pvoc.zip -o/cdata/tanzania/temp/annotations/MXJ-2019 */*.xml -r\n",
      "7z e  /cdata/tanzania/annotated_images/AIAIA/pvoc/mxj2019Ja-2020_08_26_08_49_31-pvoc.zip -o/cdata/tanzania/temp/annotations/MXJ-2019 */*.xml -r\n",
      "7z e  /cdata/tanzania/annotated_images/AIAIA/pvoc/mxj2019DA_a-2020_08_26_08_49_31-pvoc.zip -o/cdata/tanzania/temp/annotations/MXJ-2019 */*.xml -r\n",
      "7z e  /cdata/tanzania/annotated_images/AIAIA/pvoc/mxj2019CA_a-2020_08_26_08_49_31-pvoc.zip -o/cdata/tanzania/temp/annotations/MXJ-2019 */*.xml -r\n",
      "7z e  /cdata/tanzania/annotated_images/AIAIA/pvoc/mxj2019Aa-2020_08_26_08_49_31-pvoc.zip -o/cdata/tanzania/temp/annotations/MXJ-2019 */*.xml -r\n",
      "7z e  /cdata/tanzania/annotated_images/AIAIA/pvoc/mxj2019EA_a-2020_08_26_08_49_31-pvoc.zip -o/cdata/tanzania/temp/annotations/MXJ-2019 */*.xml -r\n",
      "7z e  /cdata/tanzania/annotated_images/AIAIA/pvoc/mxj2019LA-2020_08_26_08_49_31-pvoc.zip -o/cdata/tanzania/temp/annotations/MXJ-2019 */*.xml -r\n",
      "7z e  /cdata/tanzania/annotated_images/AIAIA/pvoc/mxj2019Ha-2020_08_26_08_49_31-pvoc.zip -o/cdata/tanzania/temp/annotations/MXJ-2019 */*.xml -r\n",
      "7z e  /cdata/tanzania/annotated_images/AIAIA/pvoc/mxj2019Bb-2020_08_26_08_49_31-pvoc.zip -o/cdata/tanzania/temp/annotations/MXJ-2019 */*.xml -r\n",
      "7z e  /cdata/tanzania/annotated_images/AIAIA/pvoc/mxj2019EB_b-2020_08_26_08_49_31-pvoc.zip -o/cdata/tanzania/temp/annotations/MXJ-2019 */*.xml -r\n",
      "7z e  /cdata/tanzania/annotated_images/AIAIA/pvoc/mxj2019FA_a-2020_08_26_08_49_31-pvoc.zip -o/cdata/tanzania/temp/annotations/MXJ-2019 */*.xml -r\n",
      "7z e  /cdata/tanzania/annotated_images/AIAIA/pvoc/mxj2019DB_b-2020_08_26_08_49_31-pvoc.zip -o/cdata/tanzania/temp/annotations/MXJ-2019 */*.xml -r\n"
     ]
    }
   ],
   "source": [
    "tempdir = '/cdata/tanzania/temp/annotations/MXJ-2019'\n",
    "for f in annotation_files:\n",
    "    unzip_ann_file(f,tempdir)"
   ]
  },
  {
   "cell_type": "code",
   "execution_count": 22,
   "metadata": {},
   "outputs": [
    {
     "name": "stdout",
     "output_type": "stream",
     "text": [
      "608\n"
     ]
    }
   ],
   "source": [
    "#Count annotation files\n",
    "!ls '/cdata/tanzania/temp/annotations/MXJ-2019' | wc -l"
   ]
  },
  {
   "cell_type": "markdown",
   "metadata": {},
   "source": [
    "## Bring in csv file of checked images\n",
    "This is needed for figuring out which images are missing annotations.  Howard sent the list of checked images."
   ]
  },
  {
   "cell_type": "code",
   "execution_count": 12,
   "metadata": {},
   "outputs": [],
   "source": [
    "processed_images = pd.read_csv('/cdata/tanzania/MXJ_annotated.csv')"
   ]
  },
  {
   "cell_type": "code",
   "execution_count": 13,
   "metadata": {},
   "outputs": [
    {
     "data": {
      "text/plain": [
       "Index(['Unnamed: 0', 'SourceFile', 'FileName', 'FileSize', 'Model',\n",
       "       'DateTimeOriginal', 'ImageSize', 'Quality', 'FocalLength',\n",
       "       'ShutterSpeed', 'Aperture', 'ISO', 'WhiteBalance', 'Flash', 'base',\n",
       "       'side', 'ImageID', 'geom', 'select'],\n",
       "      dtype='object')"
      ]
     },
     "execution_count": 13,
     "metadata": {},
     "output_type": "execute_result"
    }
   ],
   "source": [
    "processed_images.columns"
   ]
  },
  {
   "cell_type": "code",
   "execution_count": 14,
   "metadata": {},
   "outputs": [
    {
     "data": {
      "text/plain": [
       "1    mxj-L_20190327090234.jpg\n",
       "2    mxj-L_20190327090236.jpg\n",
       "3    mxj-L_20190327090238.jpg\n",
       "4    mxj-L_20190327090240.jpg\n",
       "5    mxj-L_20190327090242.jpg\n",
       "Name: SourceFile, dtype: object"
      ]
     },
     "execution_count": 14,
     "metadata": {},
     "output_type": "execute_result"
    }
   ],
   "source": [
    "processed_images['SourceFile'][:5]"
   ]
  },
  {
   "cell_type": "code",
   "execution_count": 18,
   "metadata": {},
   "outputs": [
    {
     "data": {
      "text/plain": [
       "(list, 14180)"
      ]
     },
     "execution_count": 18,
     "metadata": {},
     "output_type": "execute_result"
    }
   ],
   "source": [
    "mxj_images = list(processed_images['SourceFile'])\n",
    "type(mxj_images),len(mxj_images)"
   ]
  },
  {
   "cell_type": "code",
   "execution_count": 24,
   "metadata": {},
   "outputs": [
    {
     "data": {
      "text/plain": [
       "['mxj-L_20190327090234',\n",
       " 'mxj-L_20190327090236',\n",
       " 'mxj-L_20190327090238',\n",
       " 'mxj-L_20190327090240',\n",
       " 'mxj-L_20190327090242']"
      ]
     },
     "execution_count": 24,
     "metadata": {},
     "output_type": "execute_result"
    }
   ],
   "source": [
    "#Remove the suffix so we can match with xml files\n",
    "mxj_images = [str(Path(f).with_suffix('')) for f in mxj_images]\n",
    "mxj_images[:5]"
   ]
  },
  {
   "cell_type": "code",
   "execution_count": 23,
   "metadata": {},
   "outputs": [
    {
     "data": {
      "text/plain": [
       "0.04342857142857143"
      ]
     },
     "execution_count": 23,
     "metadata": {},
     "output_type": "execute_result"
    }
   ],
   "source": [
    "#So: 4.3% of the files _could_ have a matching annotation, but since the annotation files represent \n",
    "#tiles (1-9), they are probably clumped and the real number could be as low as 1/9th of that.\n",
    "608/14000"
   ]
  },
  {
   "cell_type": "markdown",
   "metadata": {},
   "source": [
    "## Get a list of annotation files"
   ]
  },
  {
   "cell_type": "code",
   "execution_count": 31,
   "metadata": {},
   "outputs": [
    {
     "data": {
      "text/plain": [
       "[PosixPath('/cdata/tanzania/temp/annotations/MXJ-2019/mxj-L_20190328100158_2.xml'),\n",
       " PosixPath('/cdata/tanzania/temp/annotations/MXJ-2019/mxj-L_20190328110722_7.xml'),\n",
       " PosixPath('/cdata/tanzania/temp/annotations/MXJ-2019/mxj-L_20190328093142_7.xml'),\n",
       " PosixPath('/cdata/tanzania/temp/annotations/MXJ-2019/mxj-L_20190328081158_7.xml'),\n",
       " PosixPath('/cdata/tanzania/temp/annotations/MXJ-2019/mxj-L_20190328111252_8.xml')]"
      ]
     },
     "execution_count": 31,
     "metadata": {},
     "output_type": "execute_result"
    }
   ],
   "source": [
    "mxj_ann_dir = Path('/cdata/tanzania/temp/annotations/MXJ-2019')\n",
    "ann_files = list(mxj_ann_dir.glob('*.xml'))\n",
    "ann_files[:5]"
   ]
  },
  {
   "cell_type": "code",
   "execution_count": 65,
   "metadata": {},
   "outputs": [],
   "source": [
    "# If every one of the 9 image tiles had animals in it, there would be 9 annotation \n",
    "# files, but in reality there are often fewer.\n",
    "def get_annotation_group(ann_path,fname):\n",
    "    \"\"\"Finds up to 9 annotation files that correspond with the image file given.\n",
    "    Parameters:\n",
    "    ann_path: pathlib Path. Directory to search for annotation files.\n",
    "    fname: string. filename to search for, without suffix.\n",
    "    \"\"\"\n",
    "    pat = '*' + fname + '*'\n",
    "    ninefiles = list(ann_path.glob(pat))\n",
    "    ninefiles = [str(f) for f in ninefiles] #convert from Path to strings\n",
    "    return ninefiles"
   ]
  },
  {
   "cell_type": "markdown",
   "metadata": {},
   "source": [
    "### Check to see how many images have annotations"
   ]
  },
  {
   "cell_type": "code",
   "execution_count": 51,
   "metadata": {},
   "outputs": [],
   "source": [
    "#Test\n",
    "def count_matching_annfiles(ann_path,img_list):\n",
    "    fc = 0\n",
    "    for fname in img_list:\n",
    "        ninefiles = get_annotation_group(ann_path,fname)\n",
    "        if len(ninefiles) > 0:\n",
    "            fc +=1\n",
    "            #print a few examples for debugging\n",
    "            if fc < 10:\n",
    "                print(fname,'')\n",
    "    return fc"
   ]
  },
  {
   "cell_type": "code",
   "execution_count": 52,
   "metadata": {},
   "outputs": [
    {
     "name": "stdout",
     "output_type": "stream",
     "text": [
      "mxj-L_20190328074652 \n",
      "mxj-L_20190328074654 \n",
      "mxj-L_20190328074754 \n",
      "mxj-L_20190328074758 \n",
      "mxj-L_20190328074816 \n",
      "mxj-L_20190328075042 \n",
      "mxj-L_20190328075134 \n",
      "mxj-L_20190328075136 \n",
      "mxj-L_20190328075140 \n"
     ]
    },
    {
     "data": {
      "text/plain": [
       "316"
      ]
     },
     "execution_count": 52,
     "metadata": {},
     "output_type": "execute_result"
    }
   ],
   "source": [
    "#The 10 files listed all contain animals\n",
    "count_matching_annfiles(mxj_ann_dir,mxj_images)"
   ]
  },
  {
   "cell_type": "code",
   "execution_count": 38,
   "metadata": {},
   "outputs": [
    {
     "data": {
      "text/plain": [
       "0.022571428571428572"
      ]
     },
     "execution_count": 38,
     "metadata": {},
     "output_type": "execute_result"
    }
   ],
   "source": [
    "316/14000 # 2.2% of the images have an associated annotation"
   ]
  },
  {
   "cell_type": "markdown",
   "metadata": {},
   "source": [
    "## Define some functions"
   ]
  },
  {
   "cell_type": "code",
   "execution_count": 42,
   "metadata": {},
   "outputs": [],
   "source": [
    "def get_bbox_offset(tpos, tw, th):\n",
    "    \"\"\"Returns an offset as a tuple (width, height) in pixels for a 9-tile system. \n",
    "    Parameters:\n",
    "    tpos: int. tile position: 1-9 reading 3 rows from top to bottom and left to right.\n",
    "    tw: int. Tile width in pixels\n",
    "    th: int. Tile height in pixels.\"\"\"\n",
    "    if tpos == 0: return(0, 0)\n",
    "    elif tpos==1: return (tw, 0) \n",
    "    elif tpos==2: return (2 * tw, 0)\n",
    "    elif tpos==3: return(0, th)\n",
    "    elif tpos==4: return(tw,th)\n",
    "    elif tpos==5: return(2 * tw,th)\n",
    "    elif tpos==6: return(0, 2 * th)\n",
    "    elif tpos==7: return(tw, 2 * th)\n",
    "    elif tpos==8: return(2 * tw,2 * th)\n",
    "    else: stop(\"Expected a tile position between 0 and 8\")"
   ]
  },
  {
   "cell_type": "code",
   "execution_count": 43,
   "metadata": {},
   "outputs": [],
   "source": [
    "def adjust_bbox(o,x_adj,y_adj):\n",
    "    \"\"\"Adjusts coordinates of a bounding box.  Assumes that 'o' is an lxml tree rooted in 'object',\n",
    "    of the form object/bndbox/[xmin,xmax, ymin, ymax].  \n",
    "    Parameters:\n",
    "    x_adj, y_adj: int. Adjustment in x and y, respectively.\n",
    "    WARNING: modifies the tree object, 'o'.\"\"\"\n",
    "    xmin_node = o.xpath('bndbox/xmin')\n",
    "    xmax_node = o.xpath('bndbox/xmax')\n",
    "    ymin_node = o.xpath('bndbox/ymin')\n",
    "    ymax_node = o.xpath('bndbox/ymax')\n",
    "    xmin = int(float(xmin_node[0].text))\n",
    "    xmax = int(float(xmax_node[0].text))\n",
    "    ymin = int(float(ymin_node[0].text))\n",
    "    ymax = int(float(ymax_node[0].text))\n",
    "    xmin_node[0].text = str(xmin + x_adj)\n",
    "    xmax_node[0].text = str(xmax + x_adj)\n",
    "    ymin_node[0].text = str(ymin + y_adj)\n",
    "    ymax_node[0].text = str(ymax + y_adj)\n",
    "    return o"
   ]
  },
  {
   "cell_type": "code",
   "execution_count": 117,
   "metadata": {},
   "outputs": [],
   "source": [
    "#Uses pascal_voc_writer to create a new empty annotation file for each image in a list.\n",
    "# missing_ann is expected to be a list of full filepaths without extensions.  \n",
    "def write_empty_annotations(imagepath,missing_ann,an_dest):\n",
    "    \"\"\"Creates a Pascal-VOC style XML annotation file for each file in a list of files that are assumed \n",
    "    to not include any objects of interest.  Uses pascal_voc_writer.\n",
    "    Parameters:\n",
    "    imagepath: string. Folder where images that match the annotations are found\n",
    "    missing_ann: list of strings.  Filepaths without suffix.  This is a list of annotation files to be made.\n",
    "    an_dest: string. Folder for output.\n",
    "    Returns a list of 'bad' files (a subset of missing_ann) for which no matching image could be found.\n",
    "    \"\"\"\n",
    "    nc = 0\n",
    "    badlist = []\n",
    "    if(len(missing_ann) > 0):\n",
    "        for filestem in missing_ann:\n",
    "            image = (Path(imagepath)/filestem).with_suffix('.jpg')\n",
    "            relpath = Path(filestem).with_suffix('.jpg')\n",
    "            filename = str(image.name)\n",
    "            folder = str(image.parent)            \n",
    "            try:\n",
    "                im = Image.open(image)\n",
    "            except FileNotFoundError:\n",
    "                #print('Could not create xml file: image not found: ',image)\n",
    "                bad_xml_file = (Path(an_dest)/filestem).with_suffix('.xml')\n",
    "                badlist.append(str(bad_xml_file))\n",
    "                next\n",
    "            else:\n",
    "                width, height = im.size\n",
    "                writer = Writer(filename, width, height) # Writer(path, width, height)\n",
    "                writer.changePath(relpath)\n",
    "                writer.changeFolder(folder)\n",
    "                outfile = str((Path(an_dest)/filestem).with_suffix('.xml'))\n",
    "                writer.save(outfile)\n",
    "                nc +=1\n",
    "    #print(\"   Created \" + str(nc) + \" new annotation files; \")\n",
    "    if (len(badlist) > 0):\n",
    "        print(\"Warning: No annotation file written for \",len(badlist),\" xml files with no match to images.\")\n",
    "    return(badlist)"
   ]
  },
  {
   "cell_type": "code",
   "execution_count": 99,
   "metadata": {},
   "outputs": [],
   "source": [
    "def get_image_size(imagefile):\n",
    "    \"\"\"Opens an image file and returns the image size as tuple(width,height) or None.\n",
    "    imagefile: string.  File to open.\"\"\"\n",
    "    try:\n",
    "        im = Image.open(imagefile)\n",
    "    except FileNotFoundError as e:\n",
    "        print(e)\n",
    "        return None\n",
    "    else:\n",
    "        width, height = im.size\n",
    "        return (width,height)"
   ]
  },
  {
   "cell_type": "code",
   "execution_count": 127,
   "metadata": {},
   "outputs": [],
   "source": [
    "def reunite_ninetiles(imagepath,imgfile,annotation_src,annotation_dest):\n",
    "    \"\"\"Find up to 9 XML annotation files for a tiled image file.  Adjust the bounding box\n",
    "    coordinates in each tile to correspond to the box's position in the original image; \n",
    "    accumulate all objects and write a single XML annotation file corresponding to the \n",
    "    full-size (un-tiled) original image.  Edit the filename, folder, width, and height \n",
    "    elements to correspond to the original image.  Write an annotation file with no objects\n",
    "    if there are no annotation files found for 'imgfile'.\n",
    "    Parameters:\n",
    "     - imagepath: pathlib Path. Folder containing 'imgfile'.\n",
    "     - imgfile: string. Image filename without suffix or path\n",
    "     - annotation_src: pathlib Path.  Folder where .xml annotation files are.\n",
    "     - annotation_dest: pathlib Path Destination folder for output XML file.\n",
    "    \"\"\"\n",
    "    parser = et.XMLParser(remove_blank_text=True)\n",
    "    ninefiles = get_annotation_group(annotation_src,imgfile) #There may be fewer than 9\n",
    "    n_files = len(ninefiles)\n",
    "    if n_files > 0:\n",
    "        for i in range(n_files):\n",
    "            tree = et.parse(str(ninefiles[i]),parser)  \n",
    "\n",
    "            #All tiles including the first may need to have coordinates adjusted\n",
    "            tile_position = int(re.split('_([0-9]*)(\\.xml)', ninefiles[i])[1])\n",
    "            #Retrieve tile height and width (assumed to be the same for all tiles)\n",
    "            tw = int(float(tree.xpath('/annotation/size/width/text()')[0]))\n",
    "            th = int(float(tree.xpath('/annotation/size/height/text()')[0]))\n",
    "            #Calculate the bbox adjustment, based on the tile position\n",
    "            (x_adj,y_adj) = get_bbox_offset(tile_position, tw, th)\n",
    "            #Accumulate object data.  Adjust the text in the bbox coordinates but leave all other XML unchanged.\n",
    "            objects = tree.xpath('//object')\n",
    "            for o in objects:\n",
    "                o = adjust_bbox(o,x_adj,y_adj) #Warning: modifies the tree object\n",
    "\n",
    "            #Use the XML tree of the first tile for image settings.\n",
    "            #Note that they are assumed to be the same for all of the 9 tiles.\n",
    "            if i==0:\n",
    "                #Set a new filename and filepath\n",
    "                filename = str(Path(imgfile).with_suffix('.xml'))\n",
    "                folder = 'MXJ-2019'\n",
    "                tree.xpath('/annotation/filename')[0].text = filename\n",
    "                tree.xpath('/annotation/folder')[0].text = folder\n",
    "                #Set the image width and height from the full-size original image\n",
    "                img = str(imagepath/Path(imgfile).with_suffix('.jpg'))\n",
    "                (width, height) = get_image_size(img)\n",
    "                tree.xpath('/annotation/size/width')[0].text = str(width)\n",
    "                tree.xpath('/annotation/size/height')[0].text = str(height)\n",
    "                master_tree = copy.deepcopy(tree)\n",
    "            else:\n",
    "                if n_files > 1:\n",
    "                    #Append <object> onto the last position of <annotation>.\n",
    "                    ann_element = master_tree.xpath('/annotation')[0]\n",
    "                    for o in objects:     \n",
    "                        ann_element.append(o)\n",
    "        outpath = str(annotation_dest/Path(imgfile).with_suffix('.xml'))\n",
    "        master_tree.write(outpath, pretty_print=True)\n",
    "        n_objects = len(master_tree.xpath('//object'))\n",
    "    else:\n",
    "        write_empty_annotations(imagepath,[imgfile],annotation_dest)\n",
    "        n_objects = 0\n",
    "    return n_objects"
   ]
  },
  {
   "cell_type": "markdown",
   "metadata": {},
   "source": [
    "# Call the function"
   ]
  },
  {
   "cell_type": "code",
   "execution_count": 104,
   "metadata": {},
   "outputs": [],
   "source": [
    "imagepath = Path('/cdata/tanzania/annotated_images/MXJ-2019')\n",
    "imgfile_list = mxj_images\n",
    "annotation_src = mxj_ann_dir\n",
    "annotation_dest = Path('/cdata/tanzania/temp/mxj_output')"
   ]
  },
  {
   "cell_type": "code",
   "execution_count": 128,
   "metadata": {},
   "outputs": [
    {
     "name": "stderr",
     "output_type": "stream",
     "text": [
      "100%|██████████| 14180/14180 [03:11<00:00, 74.00it/s]\n"
     ]
    }
   ],
   "source": [
    "assert (len(imgfile_list)==len(set(imgfile_list))),'Imagefile list must not contain duplicate names'\n",
    "object_count = []\n",
    "for i in tqdm(range(len(imgfile_list))):\n",
    "    imgfile = imgfile_list[i]\n",
    "    n_objects = reunite_ninetiles(imagepath,imgfile,annotation_src,annotation_dest)\n",
    "    object_count.append(n_objects)"
   ]
  },
  {
   "cell_type": "code",
   "execution_count": 130,
   "metadata": {},
   "outputs": [
    {
     "data": {
      "text/plain": [
       "14180"
      ]
     },
     "execution_count": 130,
     "metadata": {},
     "output_type": "execute_result"
    }
   ],
   "source": [
    "len(object_count)"
   ]
  }
 ],
 "metadata": {
  "kernelspec": {
   "display_name": "Python [conda env:fastai] *",
   "language": "python",
   "name": "conda-env-fastai-py"
  },
  "language_info": {
   "codemirror_mode": {
    "name": "ipython",
    "version": 3
   },
   "file_extension": ".py",
   "mimetype": "text/x-python",
   "name": "python",
   "nbconvert_exporter": "python",
   "pygments_lexer": "ipython3",
   "version": "3.8.2"
  }
 },
 "nbformat": 4,
 "nbformat_minor": 4
}
