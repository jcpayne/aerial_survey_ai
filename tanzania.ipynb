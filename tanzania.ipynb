{
 "cells": [
  {
   "cell_type": "markdown",
   "metadata": {},
   "source": [
    "Use nbdev to create a python file that can be imported to the other notebook."
   ]
  },
  {
   "cell_type": "code",
   "execution_count": 1,
   "metadata": {},
   "outputs": [],
   "source": [
    "\n",
    "%load_ext autoreload\n",
    "%autoreload 2\n",
    "\n",
    "%matplotlib inline"
   ]
  },
  {
   "cell_type": "code",
   "execution_count": 2,
   "metadata": {},
   "outputs": [
    {
     "name": "stdout",
     "output_type": "stream",
     "text": [
      "spearhead\n"
     ]
    }
   ],
   "source": [
    "#WHERE DOES PYTHON LOOK FOR THINGS?  THIS IS THE SEARCH PATH\n",
    "#import sys\n",
    "#sys.path\n",
    "!hostname"
   ]
  },
  {
   "cell_type": "code",
   "execution_count": 3,
   "metadata": {},
   "outputs": [],
   "source": [
    "#export\n",
    "#fastai2 imports\n",
    "from fastai2.basics import *\n",
    "from fastai2.callback.all import *\n",
    "from fastai2.data.all import *\n",
    "from fastai2.vision.all import *\n",
    "from fastai2.metrics import accuracy_multi\n",
    "from torch.autograd import Variable\n",
    "#Other imports\n",
    "import pdb\n",
    "from IPython.core.debugger import set_trace\n",
    "import datetime\n",
    "import json\n",
    "import glob\n",
    "\n",
    "\n",
    "#These are all included in fastai:\n",
    "#from pathlib import Path\n",
    "#import numpy as np\n",
    "#import pandas as pd\n",
    "\n",
    "#Imports from fastaiV1\n",
    "#from fastai.script import *\n",
    "#from fastai.distributed import *\n",
    "#torch.backends.cudnn.benchmark = True\n",
    "#import time\n",
    "# from fastai.callbacks.tracker import *\n",
    "# from fastai.callbacks import *\n",
    "# import logging\n",
    "#torch.backends.cudnn.benchmark = True\n",
    "#import time"
   ]
  },
  {
   "cell_type": "code",
   "execution_count": 4,
   "metadata": {},
   "outputs": [],
   "source": [
    "def classdict(cls):\n",
    "    return dict((key, value) for (key, value) in cls.__dict__.items())"
   ]
  },
  {
   "cell_type": "markdown",
   "metadata": {},
   "source": [
    "Check how many loggers you have running (can be waaaay too many!)\n",
    "```python\n",
    "if not logging.Logger.manager.loggerDict is None:\n",
    "    {print(key,value) for key,value in list(logging.Logger.manager.loggerDict.items())}\n",
    "```"
   ]
  },
  {
   "cell_type": "code",
   "execution_count": null,
   "metadata": {},
   "outputs": [],
   "source": [
    "# #NOT USED WHILE DEVELOPING\n",
    "# #LOGGERS DON'T DIE, so print() statements are easier to deal with while developing.  Logging is nice later.\n",
    "\n",
    "# #We start by killing any existing handlers off; otherwise they propagate\n",
    "# if hasattr(log,'handlers'):\n",
    "#     handlers = log.handlers[:]\n",
    "#     for handler in handlers:\n",
    "#         handler.close()\n",
    "#         log.removeHandler(handler)\n",
    "\n",
    "# #Set up logging\n",
    "# log = logging.getLogger()\n",
    "# log.setLevel(logging.INFO)\n",
    "# #log.propagate = False\n",
    "# formatter = logging.Formatter('%(asctime)s - %(message)s')\n",
    "\n",
    "# #create file handler which logs warnings and up\n",
    "# #fh = logging.FileHandler('training_log')\n",
    "# #fh.setLevel(logging.INFO)\n",
    "# #fh.setFormatter(formatter)\n",
    "# #log.addHandler(fh)\n",
    "\n",
    "# #create console handler with a higher log level\n",
    "# ch = logging.StreamHandler()\n",
    "# ch.setLevel(logging.INFO)\n",
    "# ch.setFormatter(formatter)\n",
    "# log.addHandler(ch)\n"
   ]
  },
  {
   "cell_type": "code",
   "execution_count": 19,
   "metadata": {},
   "outputs": [
    {
     "data": {
      "text/html": [],
      "text/plain": [
       "<IPython.core.display.HTML object>"
      ]
     },
     "metadata": {},
     "output_type": "display_data"
    }
   ],
   "source": [
    "#coco_source = untar_data(URLs.COCO_TINY) #returns a Path"
   ]
  },
  {
   "cell_type": "markdown",
   "metadata": {},
   "source": [
    "## Get files onto the VM"
   ]
  },
  {
   "cell_type": "markdown",
   "metadata": {},
   "source": [
    "Howard's files were on AWS.  He gave me access to the folder.  See \"AWS\" note in Evernote for details.\n",
    "- I installed AWS CLI on Azure VM \n",
    "- I created an AWS profile on VM \n",
    "- I used the CLI to pull files onto /cdata (for the first round, I only transferred the folder TA25).  \n",
    "```bash \n",
    "# From VM\n",
    "cd /cdata/tanzania\n",
    "aws s3 --profile aisurvey sync s3://aisurvey/TA25/ .\n",
    "```"
   ]
  },
  {
   "cell_type": "markdown",
   "metadata": {},
   "source": [
    "### Set the filepath for the images"
   ]
  },
  {
   "cell_type": "code",
   "execution_count": 63,
   "metadata": {},
   "outputs": [
    {
     "data": {
      "text/plain": [
       "Path('/cdata/tanzania')"
      ]
     },
     "execution_count": 63,
     "metadata": {},
     "output_type": "execute_result"
    }
   ],
   "source": [
    "imagepath = Path('/cdata/tanzania')\n",
    "imagepath"
   ]
  },
  {
   "cell_type": "code",
   "execution_count": 6,
   "metadata": {},
   "outputs": [
    {
     "data": {
      "text/plain": [
       "Path('/cdata/tanzania')"
      ]
     },
     "execution_count": 6,
     "metadata": {},
     "output_type": "execute_result"
    }
   ],
   "source": [
    "annotationpath = Path('/cdata/tanzania')\n",
    "annotationpath"
   ]
  },
  {
   "cell_type": "markdown",
   "metadata": {},
   "source": [
    "### Read in the metadata (filenames)"
   ]
  },
  {
   "cell_type": "code",
   "execution_count": 8,
   "metadata": {},
   "outputs": [
    {
     "data": {
      "text/plain": [
       "['/cdata/tanzania/TA25-RKE-20191201_coco.json',\n",
       " '/cdata/tanzania/TA25-RKE-20191128A_coco.json']"
      ]
     },
     "execution_count": 8,
     "metadata": {},
     "output_type": "execute_result"
    }
   ],
   "source": [
    "#Get annotation files\n",
    "annotation_files = [str(x) for x in annotationpath.iterdir() if x.suffix == '.json'] #convert strings to Paths and get parent folder\n",
    "annotation_files"
   ]
  },
  {
   "cell_type": "code",
   "execution_count": null,
   "metadata": {},
   "outputs": [],
   "source": [
    "#NOT USED\n",
    "#Compile all of the annotation files into a single JSON file.\n",
    "#This relies on json and glob imports.\n",
    "# output_list = []\n",
    "# cnt = 0\n",
    "\n",
    "# for f in annotation_files:\n",
    "#     with open(f, \"rb\") as infile:\n",
    "#         output_list.append(json.load(infile))\n",
    "#     print(len(output_list))\n",
    "# with open(\"merged_annotations_coco.json\", \"w\") as outfile:\n",
    "#     json.dump(output_list, outfile)"
   ]
  },
  {
   "cell_type": "markdown",
   "metadata": {},
   "source": [
    "### Fun with annotations\n",
    "- There are multiple annotation files; here we use COCO-JSON format.\n",
    "- Each annotation file corresponds to a different 'annotation file root' (AFR) directory. The AFR is named by date. \n",
    "- Each AFR may include subdirectories indicated by appending 'A', 'B', etc. to the AFR name\n",
    "- Each annotation file's JSON includes the date under the \"info\"/\"description\" keys, and \n",
    "- Each annotation file contains annotations for some, but not all, images in sub-directories of the parent directory. \n",
    "- Images that were checked but had no objects of interest in them do not appear in the annotation files \n",
    "\n",
    "So my strategy is to process each annotation file separately, converting the complicated JSON annotation format into the simpler fastai format, and then add empty annotations for the missing files:\n",
    "- For each annotation file, f\n",
    "    1. Make a list ('annotated_images') of files in f, taken directly from the annotation\n",
    "    2. Convert the annotations from f into fastai format\n",
    "    3. Get the date from the annotation file JSON, and find directories (Ds) containing that date\n",
    "    4. Walk the directories (Ds + subdirectories) and make a list (L_tot) of all files\n",
    "    5. Compare L_ann and L_tot, and list the empty files (L_empty)\n",
    "    6. Create empty annotations `[[[0., 0., 0., 0.]],[]]` for each filename in L_empty\n",
    "    7. Finally, append the empty files and empty annotations to the files in annotations in L_ann\n",
    "\n"
   ]
  },
  {
   "cell_type": "code",
   "execution_count": 99,
   "metadata": {},
   "outputs": [
    {
     "data": {
      "text/plain": [
       "(85,\n",
       " ['/cdata/tanzania/TA25/_data/RKE/TA25-RKE-20191201A/TA25-RKE-20191201A_L/TA25-RKE-20191201A_L_4818.jpg',\n",
       "  '/cdata/tanzania/TA25/_data/RKE/TA25-RKE-20191201A/TA25-RKE-20191201A_L/TA25-RKE-20191201A_L_4820.jpg',\n",
       "  '/cdata/tanzania/TA25/_data/RKE/TA25-RKE-20191201A/TA25-RKE-20191201A_L/TA25-RKE-20191201A_L_4821.jpg',\n",
       "  '/cdata/tanzania/TA25/_data/RKE/TA25-RKE-20191201B/TA25-RKE-20191201B_L/TA25-RKE-20191201B_L_4885.jpg',\n",
       "  '/cdata/tanzania/TA25/_data/RKE/TA25-RKE-20191201A/TA25-RKE-20191201A_L/TA25-RKE-20191201A_L_4823.jpg'])"
      ]
     },
     "execution_count": 99,
     "metadata": {},
     "output_type": "execute_result"
    }
   ],
   "source": [
    "#Step 1 & 2\n",
    "fnames, lbl_bbox = get_annotations(annotationpath/'TA25-RKE-20191201_coco.json')\n",
    "annotated_images = [str(imagepath/k) for k in fnames]\n",
    "len(annotated_images),annotated_images[:5]"
   ]
  },
  {
   "cell_type": "code",
   "execution_count": 83,
   "metadata": {},
   "outputs": [
    {
     "data": {
      "text/plain": [
       "[Path('/cdata/tanzania/TA25/_data/RKE/TA25-RKE-20191201A'),\n",
       " Path('/cdata/tanzania/TA25/_data/RKE/TA25-RKE-20191201B')]"
      ]
     },
     "execution_count": 83,
     "metadata": {},
     "output_type": "execute_result"
    }
   ],
   "source": [
    "#Step 3.  Get the date from the annotation file JSON, and find folders containing that date\n",
    "ann = json.load(annotationpath/'TA25-RKE-20191201_coco.json')\n",
    "ann_target = str(ann['info']['description'] + '*') #Add the star for the glob search in the next step\n",
    "ann_target_folders = [ x for x in Path('/cdata/tanzania/TA25/_data/RKE/').glob(ann_target)]\n",
    "ann_target_folders"
   ]
  },
  {
   "cell_type": "code",
   "execution_count": 100,
   "metadata": {},
   "outputs": [
    {
     "name": "stdout",
     "output_type": "stream",
     "text": [
      "/cdata/tanzania/TA25/_data/RKE/TA25-RKE-20191201A 109 image files\n",
      "/cdata/tanzania/TA25/_data/RKE/TA25-RKE-20191201B 23 image files\n",
      "Total images:  132\n"
     ]
    }
   ],
   "source": [
    "#Step 4\n",
    "#This step is complicated by the fact that we may have multiple parent folders to search\n",
    "tot_images = []\n",
    "\n",
    "for d in range(0,len(ann_target_folders)):\n",
    "    imgs = None\n",
    "    imgs = get_image_files(ann_target_folders[d])\n",
    "    imgs = [str(im) for im in imgs]\n",
    "    print(str(ann_target_folders[d]),len(imgs),'image files')\n",
    "    tot_images = tot_images + imgs #Join lists\n",
    "    \n",
    "print('Total images: ',len(tot_images))"
   ]
  },
  {
   "cell_type": "code",
   "execution_count": 101,
   "metadata": {},
   "outputs": [
    {
     "data": {
      "text/plain": [
       "['/cdata/tanzania/TA25/_data/RKE/TA25-RKE-20191201A/TA25-RKE-20191201A_R/TA25-RKE-20191201A_R_4120.jpg',\n",
       " '/cdata/tanzania/TA25/_data/RKE/TA25-RKE-20191201A/TA25-RKE-20191201A_R/TA25-RKE-20191201A_R_4079.jpg',\n",
       " '/cdata/tanzania/TA25/_data/RKE/TA25-RKE-20191201A/TA25-RKE-20191201A_R/TA25-RKE-20191201A_R_4092.jpg',\n",
       " '/cdata/tanzania/TA25/_data/RKE/TA25-RKE-20191201A/TA25-RKE-20191201A_R/TA25-RKE-20191201A_R_4104.jpg',\n",
       " '/cdata/tanzania/TA25/_data/RKE/TA25-RKE-20191201A/TA25-RKE-20191201A_R/TA25-RKE-20191201A_R_4090.jpg']"
      ]
     },
     "execution_count": 101,
     "metadata": {},
     "output_type": "execute_result"
    }
   ],
   "source": [
    "tot_images[:5]"
   ]
  },
  {
   "cell_type": "code",
   "execution_count": 102,
   "metadata": {},
   "outputs": [
    {
     "data": {
      "text/plain": [
       "47"
      ]
     },
     "execution_count": 102,
     "metadata": {},
     "output_type": "execute_result"
    }
   ],
   "source": [
    "#Step 5 Get the list of images without any annotations ('emptyimages')\n",
    "emptyimages = list(set(tot_images) - set(annotated_images))\n",
    "len(emptyimages)"
   ]
  },
  {
   "cell_type": "code",
   "execution_count": 113,
   "metadata": {},
   "outputs": [
    {
     "data": {
      "text/plain": [
       "47"
      ]
     },
     "execution_count": 113,
     "metadata": {},
     "output_type": "execute_result"
    }
   ],
   "source": [
    "#Step 6  Create empty annotations for each image in emptyimages\n",
    "em = ([[0., 0., 0., 0.]],[]) #This is a TUPLE, not a list\n",
    "#em = ([],[]) #alternative\n",
    "emptyannotations = list()\n",
    "for i in range(len(emptyimages)):\n",
    "    emptyannotations.append(tuple(em)) #Need a method to add another tuple to a list.\n",
    "len(emptyannotations)\n",
    "#emptyannotations"
   ]
  },
  {
   "cell_type": "code",
   "execution_count": 114,
   "metadata": {},
   "outputs": [],
   "source": [
    "#Step 7.  Concatenate the lists of imates and annotations, and zip them into single dict\n",
    "images = annotated_images + emptyimages\n",
    "assert (len(emptyimages)==len(emptyannotations)), 'The number of empty images and empty annotations does not match'\n",
    "annotations = lbl_bbox + emptyannotations\n",
    "lbl = dict(zip(images,annotations))"
   ]
  },
  {
   "cell_type": "code",
   "execution_count": 115,
   "metadata": {},
   "outputs": [
    {
     "data": {
      "text/plain": [
       "['/cdata/tanzania/TA25/_data/RKE/TA25-RKE-20191201A/TA25-RKE-20191201A_L/TA25-RKE-20191201A_L_4818.jpg',\n",
       " '/cdata/tanzania/TA25/_data/RKE/TA25-RKE-20191201A/TA25-RKE-20191201A_L/TA25-RKE-20191201A_L_4820.jpg',\n",
       " '/cdata/tanzania/TA25/_data/RKE/TA25-RKE-20191201A/TA25-RKE-20191201A_L/TA25-RKE-20191201A_L_4821.jpg',\n",
       " '/cdata/tanzania/TA25/_data/RKE/TA25-RKE-20191201B/TA25-RKE-20191201B_L/TA25-RKE-20191201B_L_4885.jpg',\n",
       " '/cdata/tanzania/TA25/_data/RKE/TA25-RKE-20191201A/TA25-RKE-20191201A_L/TA25-RKE-20191201A_L_4823.jpg']"
      ]
     },
     "execution_count": 115,
     "metadata": {},
     "output_type": "execute_result"
    }
   ],
   "source": [
    "images[:5]"
   ]
  },
  {
   "cell_type": "code",
   "execution_count": 100,
   "metadata": {},
   "outputs": [
    {
     "data": {
      "text/plain": [
       "['cdata/tanzania/TA25/_data/RKE/TA25-RKE-20191128A/TA25-RKE-20191128A_R',\n",
       " 'cdata/tanzania/TA25/_data/RKE/TA25-RKE-20191128A/TA25-RKE-20191128A_L']"
      ]
     },
     "execution_count": 100,
     "metadata": {},
     "output_type": "execute_result"
    }
   ],
   "source": [
    "#NOT USED\n",
    "#Get the list of folders represented in the JSON metadata\n",
    "#img_folders = [str('cdata/tanzania'/Path(x).parent) for x in images if Path(x).suffix == '.jpg'] #convert strings to Paths and get parent folder\n",
    "#img_folders = list(set(img_folders))\n",
    "#img_folders\n",
    "#np.unique(img_folders) #Can also use this to get a count"
   ]
  },
  {
   "cell_type": "code",
   "execution_count": 116,
   "metadata": {},
   "outputs": [
    {
     "data": {
      "text/plain": [
       "('/cdata/tanzania/TA25/_data/RKE/TA25-RKE-20191201A/TA25-RKE-20191201A_L/TA25-RKE-20191201A_L_4818.jpg',\n",
       " ([[3295.0, 259.0, 3314.0, 298.0],\n",
       "   [3335.0, 271.0, 3367.0, 308.0],\n",
       "   [3647.0, 158.0, 3673.0, 193.0],\n",
       "   [3933.0, 184.0, 3972.0, 223.0],\n",
       "   [4619.0, 608.0, 4674.0, 655.0],\n",
       "   [4679.0, 624.0, 4702.0, 648.0],\n",
       "   [4901.0, 778.0, 4934.0, 800.0],\n",
       "   [4878.0, 713.0, 4927.0, 757.0],\n",
       "   [4505.0, 501.0, 4550.0, 534.0],\n",
       "   [4513.0, 531.0, 4565.0, 574.0],\n",
       "   [4593.0, 551.0, 4632.0, 584.0],\n",
       "   [4819.0, 643.0, 4844.0, 685.0],\n",
       "   [4845.0, 676.0, 4869.0, 703.0],\n",
       "   [5094.0, 2322.0, 5194.0, 2376.0],\n",
       "   [4795.0, 2202.0, 4839.0, 2284.0],\n",
       "   [5101.0, 2145.0, 5174.0, 2202.0],\n",
       "   [5196.0, 2205.0, 5274.0, 2269.0],\n",
       "   [5019.0, 2200.0, 5059.0, 2255.0]],\n",
       "  ['elephant',\n",
       "   'elephant',\n",
       "   'elephant',\n",
       "   'elephant',\n",
       "   'elephant',\n",
       "   'elephant',\n",
       "   'elephant',\n",
       "   'elephant',\n",
       "   'elephant',\n",
       "   'elephant',\n",
       "   'elephant',\n",
       "   'elephant',\n",
       "   'elephant',\n",
       "   'elephant',\n",
       "   'elephant',\n",
       "   'elephant',\n",
       "   'elephant',\n",
       "   'elephant']))"
      ]
     },
     "execution_count": 116,
     "metadata": {},
     "output_type": "execute_result"
    }
   ],
   "source": [
    "#Look at one file.  The key is the filepath (without the 'imagepath' root)\n",
    "list(lbl.keys())[0], list(lbl.values())[0]"
   ]
  },
  {
   "cell_type": "markdown",
   "metadata": {},
   "source": [
    "### Build a DataBlock"
   ]
  },
  {
   "cell_type": "code",
   "execution_count": 117,
   "metadata": {},
   "outputs": [],
   "source": [
    "#A function to return the filenames from the dict\n",
    "def getfiles_fromdictkeys(d,path):\n",
    "    #imgfiles = [('/cdata/tanzania/' + k) for k in lbl.keys()]\n",
    "    return d.keys()\n",
    "    #return imgfiles\n",
    "#getfiles_fromdict(lbl)\n",
    "\n",
    "getfiles_fromdict = partial(getfiles_fromdictkeys,path=imagepath)"
   ]
  },
  {
   "cell_type": "code",
   "execution_count": 108,
   "metadata": {},
   "outputs": [
    {
     "data": {
      "text/plain": [
       "True"
      ]
     },
     "execution_count": 108,
     "metadata": {},
     "output_type": "execute_result"
    }
   ],
   "source": [
    "\n",
    "callable(getfiles_fromdictkeys)"
   ]
  },
  {
   "cell_type": "markdown",
   "metadata": {},
   "source": [
    "The getter has 3 parts: one for each data block.  It does nothing for the image block.  For the bbox block, it gets the first part (bbox coordinates) of the label, and for the bbloxlabel it gets the second part (the category). lbl is a dict and we pass the filename as a string (`str(o)`) as the key to it. "
   ]
  },
  {
   "cell_type": "code",
   "execution_count": 118,
   "metadata": {},
   "outputs": [],
   "source": [
    "#Create datablocks\n",
    "tanz = DataBlock(blocks=(ImageBlock, BBoxBlock, BBoxLblBlock),\n",
    "    get_items= getfiles_fromdict,\n",
    "    splitter=RandomSplitter(),\n",
    "    getters=[noop, lambda o:lbl[str(o)][0], lambda o:lbl[str(o)][1]], \n",
    "    n_inp=1)"
   ]
  },
  {
   "cell_type": "code",
   "execution_count": 119,
   "metadata": {},
   "outputs": [
    {
     "data": {
      "text/plain": [
       "132"
      ]
     },
     "execution_count": 119,
     "metadata": {},
     "output_type": "execute_result"
    }
   ],
   "source": [
    "len(lbl.keys())"
   ]
  },
  {
   "cell_type": "code",
   "execution_count": 120,
   "metadata": {},
   "outputs": [],
   "source": [
    "#Create dataloaders\n",
    "dls = tanz.dataloaders(source=lbl,path=imagepath, item_tfms=Resize(128),\n",
    "    batch_tfms=[*aug_transforms()]) #Normalize()??\n",
    "len(dls.train_ds),len(dls.valid_ds)"
   ]
  },
  {
   "cell_type": "code",
   "execution_count": 133,
   "metadata": {},
   "outputs": [
    {
     "data": {
      "text/plain": [
       "(PILImage mode=RGB size=6016x4000,\n",
       " TensorBBox([], size=(0, 4)),\n",
       " TensorMultiCategory([]))"
      ]
     },
     "execution_count": 133,
     "metadata": {},
     "output_type": "execute_result"
    }
   ],
   "source": [
    "#Check out an image that has an empty annotation (I had to look for this by hand)\n",
    "dls.train_ds[103]"
   ]
  },
  {
   "cell_type": "code",
   "execution_count": 136,
   "metadata": {},
   "outputs": [
    {
     "data": {
      "text/plain": [
       "['#na#',\n",
       " 'boma',\n",
       " 'buffalo',\n",
       " 'building',\n",
       " 'cow',\n",
       " 'eland',\n",
       " 'elephant',\n",
       " 'gazelle',\n",
       " 'giraffe',\n",
       " 'hartebeest',\n",
       " 'human',\n",
       " 'impala',\n",
       " 'kudu',\n",
       " 'oryx',\n",
       " 'shoats',\n",
       " 'zebra']"
      ]
     },
     "execution_count": 136,
     "metadata": {},
     "output_type": "execute_result"
    }
   ],
   "source": [
    "list(dls.vocab)"
   ]
  },
  {
   "cell_type": "markdown",
   "metadata": {},
   "source": [
    "# HOWARD, THIS IS AS FAR AS I HAVE GOTTEN\n",
    "* Everything below here is experimental/code scraps.  \n",
    "*  There's still a question of how to represent empty images (no bboxes) correctly."
   ]
  },
  {
   "cell_type": "code",
   "execution_count": null,
   "metadata": {},
   "outputs": [],
   "source": [
    "mean,std = [0.5]*3,[0.5]*3\n",
    "mean,std = broadcast_vec(1, 4, mean, std)\n",
    "batch_tfms = [IntToFloatTensor, Normalize.from_stats(mean,std)]\n",
    "tdl = TfmdDL(train_ds, after_batch=batch_tfms, bs=4, device=default_device())\n",
    "\n",
    "x,y  = tdl.one_batch()\n",
    "xd,yd = tdl.decode((x,y))\n"
   ]
  },
  {
   "cell_type": "markdown",
   "metadata": {},
   "source": [
    "### Add transforms"
   ]
  },
  {
   "cell_type": "code",
   "execution_count": 16,
   "metadata": {},
   "outputs": [],
   "source": [
    "tfms = None\n",
    "tfms = get_transforms()"
   ]
  },
  {
   "cell_type": "code",
   "execution_count": 17,
   "metadata": {},
   "outputs": [
    {
     "data": {
      "text/plain": [
       "['crop_pad',\n",
       " 'flip_lr',\n",
       " 'symmetric_warp',\n",
       " 'rotate',\n",
       " 'zoom',\n",
       " 'brightness',\n",
       " 'contrast',\n",
       " 'crop_pad']"
      ]
     },
     "execution_count": 17,
     "metadata": {},
     "output_type": "execute_result"
    }
   ],
   "source": [
    "#Keep: how to get all transforms in two sub-lists into a single flat list\n",
    "[tfm.__name__ for parts in tfms for tfm in parts]"
   ]
  },
  {
   "cell_type": "markdown",
   "metadata": {},
   "source": [
    "## Implement a training cycle"
   ]
  },
  {
   "cell_type": "markdown",
   "metadata": {},
   "source": [
    "The idea is to cycle through smallish datasets, potentially varying learning rate or augmentation.  One suggestion here was that progressive implementation of different augmentation regimes fared better than actually mixing them concurrently (perhaps too much augmentation if mixed, I'd guess)\n",
    "- 5 epochs Mixup (it’s the fastest starter), \n",
    "- 5 Progressive Sprinkles, \n",
    "- 5 CutMix and finished with \n",
    "- Ricap (beta=.5 to try and push larger sections)."
   ]
  },
  {
   "cell_type": "markdown",
   "metadata": {},
   "source": [
    "### A custom ImageSequence class\n",
    "https://docs.fast.ai/tutorial.itemlist.html"
   ]
  },
  {
   "cell_type": "markdown",
   "metadata": {},
   "source": [
    "## Functions to create DataFrames, DataBunches, Models, and Learners"
   ]
  },
  {
   "cell_type": "markdown",
   "metadata": {},
   "source": [
    "#### From-scratch model"
   ]
  },
  {
   "cell_type": "markdown",
   "metadata": {},
   "source": [
    "#### Prepare learner"
   ]
  },
  {
   "cell_type": "markdown",
   "metadata": {},
   "source": [
    "### Functions that combine the above"
   ]
  },
  {
   "cell_type": "markdown",
   "metadata": {},
   "source": [
    "#### New df-->databunch"
   ]
  },
  {
   "cell_type": "code",
   "execution_count": 36,
   "metadata": {},
   "outputs": [],
   "source": [
    "def get_new_databunch(tr_labels,tr_metadata,sampler,othercol,n_total,imagepath,size,bs,tfms,valid_pct,dbunch_type):\n",
    "    print('Getting dataframe')\n",
    "    df = get_df(tr_labels,tr_metadata,sampler,othercol,n_total,imagepath)\n",
    "    cols = list(df.columns.drop(['file_name','seq_id','datetime']))\n",
    "    \n",
    "    if dbunch_type=='ImageSequence':\n",
    "        print('Getting dbunch')\n",
    "        dbunch = get_ImageSequence_dbunch(df,imagepath,size,bs,tfms,valid_pct)\n",
    "    else:\n",
    "        print('Getting ImageSequence dbunch')\n",
    "        dbunch = get_databunch(df,imagepath,size,bs,tfms,valid_pct)\n",
    "    return dbunch"
   ]
  },
  {
   "cell_type": "markdown",
   "metadata": {},
   "source": [
    "#### New df-->DataBunch-->Learner"
   ]
  },
  {
   "cell_type": "code",
   "execution_count": 37,
   "metadata": {},
   "outputs": [],
   "source": [
    "def learner_with_data(tr_labels,tr_metadata,imagepath,sampler,othercol,n_total,tfms,valid_pct,dbunch_type,dbunch,learner,shuffle_train_ds,callback_fns,split_fn,freeze_to,size,bs,modelpath,model_to_load): \n",
    "    \"Loads a learner and creates a new databunch if dbunch is None\"\n",
    "    if(dbunch is None):\n",
    "        print('Making new databunch')\n",
    "        dbunch = get_new_databunch(tr_labels,tr_metadata,sampler,othercol,n_total,imagepath,size,bs,tfms,valid_pct,dbunch_type)\n",
    "    else:\n",
    "        print(f'Using existing databunch')\n",
    "    print('preparing learner')\n",
    "    learner = prepare_learner(learner_source,learner,dbunch,shuffle_train_ds,callback_fns,split_fn,freeze_to,modelpath,model_to_load) #add augmentation changes here\n",
    "    return learner"
   ]
  },
  {
   "cell_type": "markdown",
   "metadata": {},
   "source": [
    "#### Train one cycle: new df-->databunch-->Learner-->fit_one_cycle(n_epochs)"
   ]
  },
  {
   "cell_type": "code",
   "execution_count": 38,
   "metadata": {},
   "outputs": [],
   "source": [
    "def train_cycle(tr_labels,tr_metadata,imagepath,sampler,othercol,n_total,tfms,\n",
    "                valid_pct,dbunch_type,learner,shuffle_train_ds,callback_fns,split_fn,freeze_to,\n",
    "                size,bs,n_epochs,lrs,div_factor,tc,modelpath,model_to_load,save_model_as): \n",
    "    learner = learner_with_data(tr_labels,tr_metadata,imagepath,sampler,othercol,n_total,tfms,valid_pct,dbunch_type,dbunch,learner_source,learner,shuffle_train_ds,callback_fns,split_fn,freeze_to,size,bs,modelpath,model_to_load)\n",
    "    print('training')  \n",
    "    learner.fit_one_cycle(n_epochs,lrs,div_factor=div_factor)\n",
    "    return learner"
   ]
  },
  {
   "cell_type": "markdown",
   "metadata": {},
   "source": [
    "# Use the functions"
   ]
  },
  {
   "cell_type": "markdown",
   "metadata": {},
   "source": [
    "#### Get a new dataframe"
   ]
  },
  {
   "cell_type": "code",
   "execution_count": 33,
   "metadata": {},
   "outputs": [
    {
     "name": "stdout",
     "output_type": "stream",
     "text": [
      "Getting sample\n",
      "Getting metadata for sample\n",
      "Getting labels\n",
      "Dropping images if they can't be found\n",
      "Dataframe has 277 images; 0 missing files were dropped.\n",
      "Sorting the dataframe by seq_id, then filename\n"
     ]
    }
   ],
   "source": [
    "othercol = 'empty' \n",
    "n_total = 100 #This is the number of sequences: the image count will be ~2.5x higher.  Must be larger than bs.\n",
    "sampler = random_sample #OR positives_sample, balanced_sample, balanced_sample_halfother\n",
    "imagepath = Path('/cdata/serengeti')\n",
    "\n",
    "dfnew = get_df(train_labels,train_metadata,sampler,othercol,n_total,imagepath)"
   ]
  },
  {
   "cell_type": "code",
   "execution_count": null,
   "metadata": {},
   "outputs": [],
   "source": [
    "il = ImageSequenceList.from_df(df=dfnew,cols=[0,1],path=imagepath)"
   ]
  },
  {
   "cell_type": "markdown",
   "metadata": {},
   "source": [
    "#### Load and prepare learner and add new databunch"
   ]
  },
  {
   "cell_type": "code",
   "execution_count": null,
   "metadata": {},
   "outputs": [],
   "source": [
    "del learner;\n",
    "#gc.collect()"
   ]
  },
  {
   "cell_type": "code",
   "execution_count": null,
   "metadata": {},
   "outputs": [],
   "source": [
    "fit_one_cycle??"
   ]
  },
  {
   "cell_type": "code",
   "execution_count": 115,
   "metadata": {},
   "outputs": [
    {
     "data": {
      "image/png": "[encoded data removed]",
      "text/plain": [
       "<Figure size 432x288 with 1 Axes>"
      ]
     },
     "metadata": {
      "needs_background": "light"
     },
     "output_type": "display_data"
    }
   ],
   "source": [
    "learner.recorder.plot_losses()"
   ]
  },
  {
   "cell_type": "code",
   "execution_count": 111,
   "metadata": {},
   "outputs": [
    {
     "data": {
      "text/plain": [
       "'/cdata/serengeti/models/seqmodel_23Jan1311_'"
      ]
     },
     "execution_count": 111,
     "metadata": {},
     "output_type": "execute_result"
    }
   ],
   "source": [
    "# import datetime\n",
    "# datetime.datetime.now().strftime(\"%b%d_%H%M\")\n",
    "#print(f'{%m-%d_%H:%M:}'.format( date=datetime.datetime.now() ))\n",
    "\n",
    "#str(modelpath) + '/seqmodel_' + datetime.datetime.now().strftime(\"%d%b%H%M_\")\n",
    "save_model_root = str(modelpath) + '/seqmodel_' + datetime.datetime.now().strftime(\"%d%b%H%M_\") #This is given to the SaveModelCallback, below.\n",
    "save_model_root"
   ]
  },
  {
   "cell_type": "code",
   "execution_count": 90,
   "metadata": {},
   "outputs": [],
   "source": [
    "learner.save(modelpath/'seqimg_large_2')"
   ]
  },
  {
   "cell_type": "code",
   "execution_count": 91,
   "metadata": {},
   "outputs": [],
   "source": [
    "learner.export(modelpath/'seqimg_large_2.pkl')"
   ]
  },
  {
   "cell_type": "code",
   "execution_count": 88,
   "metadata": {},
   "outputs": [
    {
     "data": {
      "image/png": "[encoded data removed]",
      "text/plain": [
       "<Figure size 432x288 with 1 Axes>"
      ]
     },
     "metadata": {
      "needs_background": "light"
     },
     "output_type": "display_data"
    }
   ],
   "source": [
    "learner.recorder.plot()"
   ]
  },
  {
   "cell_type": "code",
   "execution_count": null,
   "metadata": {},
   "outputs": [],
   "source": [
    "learner.data.classes"
   ]
  },
  {
   "cell_type": "code",
   "execution_count": null,
   "metadata": {},
   "outputs": [],
   "source": [
    "learner.save(modelpath/'seqimg_large_1')"
   ]
  },
  {
   "cell_type": "code",
   "execution_count": null,
   "metadata": {},
   "outputs": [],
   "source": [
    "learner.export(modelpath/'seqimg_large_1export.pkl')"
   ]
  },
  {
   "cell_type": "code",
   "execution_count": null,
   "metadata": {},
   "outputs": [],
   "source": [
    "callbacks = [Recorder(learner),ImageGrouping(learner),\n",
    "SaveModelCallback(learner,mode='max',every='improvement', monitor='accuracy_thresh', name='seqimg_newest')]\n",
    "#learner.callbacks = [] #ShowGraph(learner),\n",
    "learner.callbacks = callbacks\n"
   ]
  },
  {
   "cell_type": "code",
   "execution_count": null,
   "metadata": {},
   "outputs": [],
   "source": [
    "lr_max=5e-3\n",
    "lrs = slice(lr_max/50,lr_max/5,lr_max)\n",
    "\n",
    "learner.fit(5,lrs)"
   ]
  },
  {
   "cell_type": "code",
   "execution_count": 43,
   "metadata": {},
   "outputs": [
    {
     "data": {
      "image/png": "[encoded data removed]",
      "text/plain": [
       "<Figure size 432x288 with 1 Axes>"
      ]
     },
     "metadata": {
      "needs_background": "light"
     },
     "output_type": "display_data"
    }
   ],
   "source": [
    "learner.recorder.plot_losses()"
   ]
  },
  {
   "cell_type": "markdown",
   "metadata": {},
   "source": [
    "### Predict"
   ]
  }
 ],
 "metadata": {
  "kernelspec": {
   "display_name": "Python [conda env:fastai2] *",
   "language": "python",
   "name": "conda-env-fastai2-py"
  },
  "language_info": {
   "codemirror_mode": {
    "name": "ipython",
    "version": 3
   },
   "file_extension": ".py",
   "mimetype": "text/x-python",
   "name": "python",
   "nbconvert_exporter": "python",
   "pygments_lexer": "ipython3",
   "version": "3.7.7"
  }
 },
 "nbformat": 4,
 "nbformat_minor": 4
}
